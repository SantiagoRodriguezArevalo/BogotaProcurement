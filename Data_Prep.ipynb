{
 "cells": [
  {
   "cell_type": "code",
   "execution_count": 1,
   "metadata": {},
   "outputs": [],
   "source": [
    "import os\n",
    "import re\n",
    "import pandas as pd\n",
    "import numpy as np\n",
    "import matplotlib.pyplot as plt\n",
    "%matplotlib inline\n",
    "plt.rcParams[\"figure.figsize\"] = [18.0, 10.0]"
   ]
  },
  {
   "cell_type": "code",
   "execution_count": 2,
   "metadata": {},
   "outputs": [],
   "source": [
    "# Set working directory\n",
    "os.chdir(r\"C:\\Users\\valen\\Desktop\\S\\Procurement\\SECOPII\")"
   ]
  },
  {
   "cell_type": "markdown",
   "metadata": {},
   "source": [
    "---"
   ]
  },
  {
   "cell_type": "markdown",
   "metadata": {},
   "source": [
    "## SECOP II Contratos Electrónicos"
   ]
  },
  {
   "cell_type": "code",
   "execution_count": 3,
   "metadata": {},
   "outputs": [
    {
     "data": {
      "text/plain": [
       "(11683, 54)"
      ]
     },
     "execution_count": 3,
     "metadata": {},
     "output_type": "execute_result"
    }
   ],
   "source": [
    "secop_II_ContratosE = pd.read_csv(\"SECOP_II_Contratos_Electronicos.csv\", low_memory=False)\n",
    "secop_II_ContratosE.shape"
   ]
  },
  {
   "cell_type": "code",
   "execution_count": 4,
   "metadata": {},
   "outputs": [
    {
     "data": {
      "text/plain": [
       "BOGOTA    10140\n",
       "OTROS      1543\n",
       "Name: Ent_distrito, dtype: int64"
      ]
     },
     "execution_count": 4,
     "metadata": {},
     "output_type": "execute_result"
    }
   ],
   "source": [
    "secop_II_ContratosE['Ent_distrito'] = ['BOGOTA' if  x == 'SECRETARIA DISTRITAL DE INTEGRACION SOCIAL' or x == 'SUBRED INTEGRADA DE SERVICIOS DE SALUD NORTE E.S.E..' or x == 'SUBRED INTEGRADA DE SERVICIOS DE SALUD CENTRO ORIENTE E.S.E' or x == 'INSTITUTO DISTRITAL DE LAS ARTES' or x == 'SECRETARIA DE EDUCACION DEL DISTRITO'  or x == 'SUBRED INTEGRADA DE SERVICIOS DE SALUD SUR E.S.E' or x == 'EMPRESA DE ACUEDUCTO Y ALCANTARILLADO DE BOGOTÁ - E.S.P.'  or x == 'SECRETARIA DISTRITAL DE MOVILIDAD' or x == 'EMPRESA DE TRANSPORTE DEL TERCER MILENIO TRANSMILENIO S. A.' or x == 'UNIDAD ADMINISTRATIVA ESPECIAL CUERPO OFICIAL DE BOMBEROS DE BOGOTA' or x == 'SUBRED INTEGRADA DE SERVICIOS DE SALUD SUR OCCIDENTE ESE.'  or x == 'PERSONERIA DE BOGOTA' or x == 'INSTITUTO DISTRITAL PARA LA PROTECCIÓN DE LA NIÑEZ Y LA JUVENTUD'  or x == 'SECRETARIA DISTRITAL DE GOBIERNO' or x == 'SECRETARIA DISTRITAL DE AMBIENTE'  or x == 'ALCALDIA LOCAL DE SUBA' or x == 'ENTIDAD ASESORA DE GESTION ADMINISTRATIVA Y TECNICA' or x == 'FONDO FINANCIERO DISTRITAL DE SALUD'  or x == 'SECRETARIA DISTRITAL DEL HABITAT' or x == 'INSTITUTO DE DESARROLLO URBANO' or x == 'JARDÍN BOTÁNICO JOSÉ CELESTINO MUTIS'  or x == 'INSTITUTO DISTRITAL DE RECREACIÓN Y DEPORTE' or x == 'SECRETARÍA GENERAL DE LA ALCALDÍA MAYOR DE BOGOTÁ'\n",
    "                             or x == 'INSTITUTO DISTRITAL DE LA PARTICIPACIÓN Y ACCIÓN COMUNAL' or x == 'SECRETARIA DISTRITAL DE PLANEACION' or x == 'CAJA DE LA VIVIENDA POPULAR' or x == 'UNIDAD ADMINISTRATIVA ESPECIAL DE REHABILITACIÓN Y MANTENIMIENTO VIAL' or x == 'SECRETARIA DISTRITAL DE LA MUJER' or x == 'INSTITUTO DISTRITAL DE PATRIMONIO CULTURAL' or x == 'ALCALDIA LOCAL DE KENNEDY' or x == 'ALCALDIA LOCAL DE SAN CRISTOBAL' or x == 'ALCALDIA LOCAL DE CIUDAD BOLIVAR' or x == 'CONTRALORIA DE BOGOTA' or x == 'ALCALDÍA LOCAL DE ENGATIVÁ'  or x == 'UNIDAD ADMINISTRATIVA ESPECIAL DE SERVICIOS PÚBLICOS' or x == 'ORQUESTA FILARMONICA DE BOGOTA' or x == 'INSTITUTO DISTRITAL DE GESTION DE RIESGOS Y CAMBIO CLIMATICO' or x == 'ALCALDIA LOCAL DE USME' or x == 'ALCALDIA LOCAL DE BOSA' or x == 'SECRETARÍA DISTRITAL DE CULTURA, RECREACIÓN Y DEPORTE' or x == 'EMPRESA DE RENOVACION Y DESARROLLO URBANO DE BOGOTA D.C' or x == 'DEPARTAMENTO ADMINISTRATIVO DE LA DEFENSORIA DEL ESPACIO PUBLICO' or x == 'UNIDAD ADMINISTRATIVA ESPECIAL DE CATASTRO DISTRITAL' or x == 'ALCALDIA LOCAL DE USAQUEN' or x == 'SECRETARIA DISTRITAL DE DESARROLLO ECONOMICO' or x == 'ALCALDIA LOCAL RAFAEL URIBE URIBE'  or x == 'FONDO DE VIGILANCIA Y SEGURIDAD DE BOGOTÁ D.C EN LIQUIDACIÓN'\n",
    "                             or x == 'ALCALDIA LOCAL DE FONTIBON' or x == 'ALCALDIA LOCAL DE PUENTE ARANDA-FONDO DE DESARROLLO LOCAL'  or x == 'ALCALDIA LOCAL DE MARTIRES' or x == 'SECRETARIA DISTRITAL DE HACIENDA'  or x == 'ALCALDIA LOCAL DE TUNJUELITO' or x == 'FONDO DE PRESTACIONES ECONOMICAS CESANTIAS Y PENSIONES' or x == 'ALCALDIA LOCAL DE TEUSAQUILLO (oficial)' or x == 'ALCALDIA LOCAL DE SUMAPAZ' or x == 'ALCALDIA LOCAL DE SANTAFE- FONDO DE DESARROLLO LOCAL DE SANTA FE' or x == 'ALCALDÍA LOCAL DE CHAPINERO - FONDO DE DESARROLLO LOCAL' or x == 'ALCALDÍA LOCAL DE BARRIOS UNIDOS' or x == 'ALCALDIA LOCAL DE ANTONIO NARIÑO' or x == 'METRO DE BOGOTA SA' or x == 'FUNDACION GILBERTO ALZATE AVENDAÑO' or x == 'SECRETARIA JURIDICA DISTRITAL' or x == 'TERMINAL DE TRANSPORTE S.A' or x == 'INSTITUTO DISTRITAL DE PROTECCION Y BIENESTAR ANIMAL' or x == 'SECRETARIA DE PLANEACION' or x == 'VEEDURIA DISTRITAL' or x == 'FONDO DE DESARROLLO LOCAL DE LA CANDELARIA' or x == 'INSTITUTO PARA LA INVESTIGACIÓN EDUCATIVA Y EL DESARROLLO PEDAGÓGICO - IDEP'  or x == 'LOTERIA DE BOGOTA' or x == 'INSTITUTO DISTRITAL DE TURISMO' or x == 'DEPARTAMENTO ADMINISTRATIVO DEL SERVICIO CIVIL DISTRITAL' or x == 'SECRETARIA DISTRITAL DE SALUD' or x == 'SECRETARÍA DISTRITAL DE CULTURA  RECREACIÓN Y DEPORTE'\n",
    "                             or x == 'SECRETARÍA DISTRITAL DE MOVILIDAD'      \n",
    "                                                                                                     \n",
    "                                     else 'OTROS' for x in secop_II_ContratosE['Nombre Entidad']]\n",
    "\n",
    "secop_II_ContratosE['Ent_distrito'].value_counts()"
   ]
  },
  {
   "cell_type": "code",
   "execution_count": 5,
   "metadata": {},
   "outputs": [
    {
     "data": {
      "text/plain": [
       "BOGOTA    10140\n",
       "Name: Ent_distrito, dtype: int64"
      ]
     },
     "execution_count": 5,
     "metadata": {},
     "output_type": "execute_result"
    }
   ],
   "source": [
    "# Bogotá\n",
    "secop_II_ContratosE = secop_II_ContratosE[secop_II_ContratosE['Ent_distrito'] != 'OTROS']\n",
    "secop_II_ContratosE['Ent_distrito'].value_counts()"
   ]
  },
  {
   "cell_type": "code",
   "execution_count": 6,
   "metadata": {},
   "outputs": [
    {
     "data": {
      "text/plain": [
       "True"
      ]
     },
     "execution_count": 6,
     "metadata": {},
     "output_type": "execute_result"
    }
   ],
   "source": [
    "drop_vars_Contratos = ['Departamento', 'Ciudad', 'Localización', 'Orden', 'Referencia del Contrato', 'TipoDocProveedor',\n",
    "                      'Código BPIN', 'Anno BPIN', 'EsPostConflicto', 'Puntos del Acuerdo', 'Pilares del Acuerdo', 'Ent_distrito']\n",
    "\n",
    "secop_II_ContratosE.drop(drop_vars_Contratos, inplace=True, axis=1)\n",
    "\n",
    "secop_II_ContratosE['ID Contrato'].is_unique"
   ]
  },
  {
   "cell_type": "code",
   "execution_count": 7,
   "metadata": {},
   "outputs": [
    {
     "data": {
      "text/plain": [
       "Index(['Nombre Entidad', 'Nit Entidad', 'Sector', 'Rama',\n",
       "       'Entidad Centralizada', 'Proceso de Compra', 'ID Contrato',\n",
       "       'Estado Contrato', 'Codigo de Categoria Principal',\n",
       "       'Descripcion del Proceso', 'Tipo de Contrato',\n",
       "       'Modalidad de Contratacion', 'Justificacion Modalidad de Contratacion',\n",
       "       'Fecha de Firma', 'Fecha de Inicio del Contrato',\n",
       "       'Fecha de Fin del Contrato', 'Fecha de Inicio de Ejecucion',\n",
       "       'Fecha de Fin de Ejecucion', 'Condiciones de Entrega',\n",
       "       'Documento Proveedor', 'Proveedor Adjudicado', 'Es Grupo', 'Es Pyme',\n",
       "       'Habilita Pago Adelantado', 'Liquidación', 'Obligación Ambiental',\n",
       "       'Obligaciones Postconsumo', 'Reversion', 'Valor del Contrato',\n",
       "       'Valor de pago adelantado', 'Valor Facturado',\n",
       "       'Valor Pendiente de Pago', 'Valor Pagado', 'Valor Amortizado',\n",
       "       'Valor Pendiente de Amortizacion', 'Valor Pendiente de Ejecucion',\n",
       "       'Estado BPIN', 'Saldo CDP', 'Saldo Vigencia', 'URLProceso',\n",
       "       'Destino Gasto', 'Origen de los Recursos', 'Dias Adicionados'],\n",
       "      dtype='object')"
      ]
     },
     "execution_count": 7,
     "metadata": {},
     "output_type": "execute_result"
    }
   ],
   "source": [
    "secop_II_ContratosE.columns"
   ]
  },
  {
   "cell_type": "markdown",
   "metadata": {},
   "source": [
    "---"
   ]
  },
  {
   "cell_type": "markdown",
   "metadata": {},
   "source": [
    "## SECOP II Adiciones"
   ]
  },
  {
   "cell_type": "code",
   "execution_count": 8,
   "metadata": {},
   "outputs": [
    {
     "data": {
      "text/plain": [
       "(698750, 5)"
      ]
     },
     "execution_count": 8,
     "metadata": {},
     "output_type": "execute_result"
    }
   ],
   "source": [
    "secop_II_Adiciones = pd.read_csv(\"SECOP_II_Adiciones.csv\", low_memory=False)\n",
    "secop_II_Adiciones.shape"
   ]
  },
  {
   "cell_type": "code",
   "execution_count": 9,
   "metadata": {},
   "outputs": [
    {
     "data": {
      "text/plain": [
       "Index(['Identificador', 'ID_Contrato', 'Tipo', 'Descripcion', 'FechaRegistro'], dtype='object')"
      ]
     },
     "execution_count": 9,
     "metadata": {},
     "output_type": "execute_result"
    }
   ],
   "source": [
    "secop_II_Adiciones.columns"
   ]
  },
  {
   "cell_type": "code",
   "execution_count": 10,
   "metadata": {},
   "outputs": [
    {
     "data": {
      "text/html": [
       "<div>\n",
       "<style scoped>\n",
       "    .dataframe tbody tr th:only-of-type {\n",
       "        vertical-align: middle;\n",
       "    }\n",
       "\n",
       "    .dataframe tbody tr th {\n",
       "        vertical-align: top;\n",
       "    }\n",
       "\n",
       "    .dataframe thead th {\n",
       "        text-align: right;\n",
       "    }\n",
       "</style>\n",
       "<table border=\"1\" class=\"dataframe\">\n",
       "  <thead>\n",
       "    <tr style=\"text-align: right;\">\n",
       "      <th></th>\n",
       "      <th>ID_Contrato</th>\n",
       "      <th>Tipo</th>\n",
       "    </tr>\n",
       "  </thead>\n",
       "  <tbody>\n",
       "    <tr>\n",
       "      <th>219039</th>\n",
       "      <td>CO1.PCCNTR.100002</td>\n",
       "      <td>Cesión</td>\n",
       "    </tr>\n",
       "    <tr>\n",
       "      <th>28349</th>\n",
       "      <td>CO1.PCCNTR.100004</td>\n",
       "      <td>Terminación</td>\n",
       "    </tr>\n",
       "    <tr>\n",
       "      <th>558820</th>\n",
       "      <td>CO1.PCCNTR.100004</td>\n",
       "      <td>No definido</td>\n",
       "    </tr>\n",
       "    <tr>\n",
       "      <th>457884</th>\n",
       "      <td>CO1.PCCNTR.1000507</td>\n",
       "      <td>Terminación</td>\n",
       "    </tr>\n",
       "    <tr>\n",
       "      <th>359599</th>\n",
       "      <td>CO1.PCCNTR.1000507</td>\n",
       "      <td>Adición en el valor</td>\n",
       "    </tr>\n",
       "    <tr>\n",
       "      <th>...</th>\n",
       "      <td>...</td>\n",
       "      <td>...</td>\n",
       "    </tr>\n",
       "    <tr>\n",
       "      <th>300713</th>\n",
       "      <td>CO1.PCCNTR.999809</td>\n",
       "      <td>No definido</td>\n",
       "    </tr>\n",
       "    <tr>\n",
       "      <th>215134</th>\n",
       "      <td>CO1.PCCNTR.999901</td>\n",
       "      <td>Modificación General</td>\n",
       "    </tr>\n",
       "    <tr>\n",
       "      <th>261032</th>\n",
       "      <td>CO1.PCCNTR.999901</td>\n",
       "      <td>Modificación General</td>\n",
       "    </tr>\n",
       "    <tr>\n",
       "      <th>184787</th>\n",
       "      <td>CO1.PCCNTR.999901</td>\n",
       "      <td>Adición en el valor</td>\n",
       "    </tr>\n",
       "    <tr>\n",
       "      <th>184791</th>\n",
       "      <td>CO1.PCCNTR.999901</td>\n",
       "      <td>Modificación General</td>\n",
       "    </tr>\n",
       "  </tbody>\n",
       "</table>\n",
       "<p>698750 rows × 2 columns</p>\n",
       "</div>"
      ],
      "text/plain": [
       "               ID_Contrato                  Tipo\n",
       "219039   CO1.PCCNTR.100002                Cesión\n",
       "28349    CO1.PCCNTR.100004           Terminación\n",
       "558820   CO1.PCCNTR.100004           No definido\n",
       "457884  CO1.PCCNTR.1000507           Terminación\n",
       "359599  CO1.PCCNTR.1000507   Adición en el valor\n",
       "...                    ...                   ...\n",
       "300713   CO1.PCCNTR.999809           No definido\n",
       "215134   CO1.PCCNTR.999901  Modificación General\n",
       "261032   CO1.PCCNTR.999901  Modificación General\n",
       "184787   CO1.PCCNTR.999901   Adición en el valor\n",
       "184791   CO1.PCCNTR.999901  Modificación General\n",
       "\n",
       "[698750 rows x 2 columns]"
      ]
     },
     "execution_count": 10,
     "metadata": {},
     "output_type": "execute_result"
    }
   ],
   "source": [
    "drop_vars_Adiciones = ['Identificador', 'Descripcion','FechaRegistro']\n",
    "secop_II_Adiciones.drop(drop_vars_Adiciones, inplace=True, axis=1)\n",
    "\n",
    "secop_II_Adiciones.sort_values(by='ID_Contrato', ascending=True)"
   ]
  },
  {
   "cell_type": "code",
   "execution_count": 11,
   "metadata": {},
   "outputs": [
    {
     "name": "stdout",
     "output_type": "stream",
     "text": [
      "         ID_Contrato  Tipo_Adición en el valor  Tipo_Cesión  Tipo_Conclusión  \\\n",
      "0    CO1.PCCNTR.1801                         0            0                0   \n",
      "1   CO1.PCCNTR.13101                         0            0                0   \n",
      "2   CO1.PCCNTR.13904                         0            0                0   \n",
      "3  CO1.PCCNTR.114503                         0            0                1   \n",
      "4  CO1.PCCNTR.263229                         0            0                0   \n",
      "\n",
      "   Tipo_Expiración  Tipo_Extensión  Tipo_Modificación General  \\\n",
      "0                0               0                          1   \n",
      "1                0               0                          1   \n",
      "2                0               0                          1   \n",
      "3                0               0                          0   \n",
      "4                0               0                          0   \n",
      "\n",
      "   Tipo_No definido  Tipo_Reactivación  Tipo_Reducción en el valor  \\\n",
      "0                 0                  0                           0   \n",
      "1                 0                  0                           0   \n",
      "2                 0                  0                           0   \n",
      "3                 0                  0                           0   \n",
      "4                 0                  1                           0   \n",
      "\n",
      "   Tipo_Suspensión  Tipo_Terminación  \n",
      "0                0                 0  \n",
      "1                0                 0  \n",
      "2                0                 0  \n",
      "3                0                 0  \n",
      "4                0                 0  \n"
     ]
    }
   ],
   "source": [
    "todummy_list = ['Tipo'] \n",
    "\n",
    "# Function to dummy all the categorical variables used for modeling\n",
    "def dummy_df(df, todummy_list):\n",
    "    for x in todummy_list:\n",
    "        dummies = pd.get_dummies(df[x], prefix=x, dummy_na=False)\n",
    "        df = df.drop(x, 1)\n",
    "        df = pd.concat([df, dummies], axis=1)\n",
    "    return df\n",
    "\n",
    "\n",
    "X_ext = dummy_df(secop_II_Adiciones, todummy_list)\n",
    "print(X_ext.head(5))"
   ]
  },
  {
   "cell_type": "code",
   "execution_count": 12,
   "metadata": {},
   "outputs": [
    {
     "data": {
      "text/html": [
       "<div>\n",
       "<style scoped>\n",
       "    .dataframe tbody tr th:only-of-type {\n",
       "        vertical-align: middle;\n",
       "    }\n",
       "\n",
       "    .dataframe tbody tr th {\n",
       "        vertical-align: top;\n",
       "    }\n",
       "\n",
       "    .dataframe thead th {\n",
       "        text-align: right;\n",
       "    }\n",
       "</style>\n",
       "<table border=\"1\" class=\"dataframe\">\n",
       "  <thead>\n",
       "    <tr style=\"text-align: right;\">\n",
       "      <th></th>\n",
       "      <th>ID_Contrato</th>\n",
       "      <th>Tipo_Adición en el valor</th>\n",
       "      <th>Tipo_Cesión</th>\n",
       "      <th>Tipo_Conclusión</th>\n",
       "      <th>Tipo_Expiración</th>\n",
       "      <th>Tipo_Extensión</th>\n",
       "      <th>Tipo_Modificación General</th>\n",
       "      <th>Tipo_No definido</th>\n",
       "      <th>Tipo_Reactivación</th>\n",
       "      <th>Tipo_Reducción en el valor</th>\n",
       "      <th>Tipo_Suspensión</th>\n",
       "      <th>Tipo_Terminación</th>\n",
       "    </tr>\n",
       "  </thead>\n",
       "  <tbody>\n",
       "    <tr>\n",
       "      <th>0</th>\n",
       "      <td>CO1.PCCNTR.100002</td>\n",
       "      <td>0</td>\n",
       "      <td>1</td>\n",
       "      <td>0</td>\n",
       "      <td>0</td>\n",
       "      <td>0</td>\n",
       "      <td>0</td>\n",
       "      <td>0</td>\n",
       "      <td>0</td>\n",
       "      <td>0</td>\n",
       "      <td>0</td>\n",
       "      <td>0</td>\n",
       "    </tr>\n",
       "    <tr>\n",
       "      <th>1</th>\n",
       "      <td>CO1.PCCNTR.100004</td>\n",
       "      <td>0</td>\n",
       "      <td>0</td>\n",
       "      <td>0</td>\n",
       "      <td>0</td>\n",
       "      <td>0</td>\n",
       "      <td>0</td>\n",
       "      <td>1</td>\n",
       "      <td>0</td>\n",
       "      <td>0</td>\n",
       "      <td>0</td>\n",
       "      <td>1</td>\n",
       "    </tr>\n",
       "    <tr>\n",
       "      <th>2</th>\n",
       "      <td>CO1.PCCNTR.1000507</td>\n",
       "      <td>1</td>\n",
       "      <td>0</td>\n",
       "      <td>0</td>\n",
       "      <td>0</td>\n",
       "      <td>0</td>\n",
       "      <td>0</td>\n",
       "      <td>0</td>\n",
       "      <td>0</td>\n",
       "      <td>0</td>\n",
       "      <td>0</td>\n",
       "      <td>1</td>\n",
       "    </tr>\n",
       "    <tr>\n",
       "      <th>3</th>\n",
       "      <td>CO1.PCCNTR.1000605</td>\n",
       "      <td>0</td>\n",
       "      <td>0</td>\n",
       "      <td>0</td>\n",
       "      <td>0</td>\n",
       "      <td>0</td>\n",
       "      <td>1</td>\n",
       "      <td>0</td>\n",
       "      <td>0</td>\n",
       "      <td>0</td>\n",
       "      <td>0</td>\n",
       "      <td>0</td>\n",
       "    </tr>\n",
       "    <tr>\n",
       "      <th>4</th>\n",
       "      <td>CO1.PCCNTR.1000801</td>\n",
       "      <td>0</td>\n",
       "      <td>1</td>\n",
       "      <td>0</td>\n",
       "      <td>0</td>\n",
       "      <td>0</td>\n",
       "      <td>0</td>\n",
       "      <td>0</td>\n",
       "      <td>0</td>\n",
       "      <td>0</td>\n",
       "      <td>0</td>\n",
       "      <td>0</td>\n",
       "    </tr>\n",
       "    <tr>\n",
       "      <th>...</th>\n",
       "      <td>...</td>\n",
       "      <td>...</td>\n",
       "      <td>...</td>\n",
       "      <td>...</td>\n",
       "      <td>...</td>\n",
       "      <td>...</td>\n",
       "      <td>...</td>\n",
       "      <td>...</td>\n",
       "      <td>...</td>\n",
       "      <td>...</td>\n",
       "      <td>...</td>\n",
       "      <td>...</td>\n",
       "    </tr>\n",
       "    <tr>\n",
       "      <th>291066</th>\n",
       "      <td>CO1.PCCNTR.999806</td>\n",
       "      <td>0</td>\n",
       "      <td>0</td>\n",
       "      <td>0</td>\n",
       "      <td>0</td>\n",
       "      <td>0</td>\n",
       "      <td>0</td>\n",
       "      <td>0</td>\n",
       "      <td>0</td>\n",
       "      <td>0</td>\n",
       "      <td>0</td>\n",
       "      <td>1</td>\n",
       "    </tr>\n",
       "    <tr>\n",
       "      <th>291067</th>\n",
       "      <td>CO1.PCCNTR.999807</td>\n",
       "      <td>0</td>\n",
       "      <td>0</td>\n",
       "      <td>1</td>\n",
       "      <td>0</td>\n",
       "      <td>0</td>\n",
       "      <td>0</td>\n",
       "      <td>0</td>\n",
       "      <td>0</td>\n",
       "      <td>0</td>\n",
       "      <td>0</td>\n",
       "      <td>0</td>\n",
       "    </tr>\n",
       "    <tr>\n",
       "      <th>291068</th>\n",
       "      <td>CO1.PCCNTR.999808</td>\n",
       "      <td>0</td>\n",
       "      <td>0</td>\n",
       "      <td>0</td>\n",
       "      <td>0</td>\n",
       "      <td>0</td>\n",
       "      <td>2</td>\n",
       "      <td>0</td>\n",
       "      <td>0</td>\n",
       "      <td>0</td>\n",
       "      <td>0</td>\n",
       "      <td>0</td>\n",
       "    </tr>\n",
       "    <tr>\n",
       "      <th>291069</th>\n",
       "      <td>CO1.PCCNTR.999809</td>\n",
       "      <td>0</td>\n",
       "      <td>0</td>\n",
       "      <td>0</td>\n",
       "      <td>0</td>\n",
       "      <td>0</td>\n",
       "      <td>0</td>\n",
       "      <td>1</td>\n",
       "      <td>0</td>\n",
       "      <td>0</td>\n",
       "      <td>0</td>\n",
       "      <td>0</td>\n",
       "    </tr>\n",
       "    <tr>\n",
       "      <th>291070</th>\n",
       "      <td>CO1.PCCNTR.999901</td>\n",
       "      <td>1</td>\n",
       "      <td>0</td>\n",
       "      <td>0</td>\n",
       "      <td>0</td>\n",
       "      <td>0</td>\n",
       "      <td>3</td>\n",
       "      <td>0</td>\n",
       "      <td>0</td>\n",
       "      <td>0</td>\n",
       "      <td>0</td>\n",
       "      <td>0</td>\n",
       "    </tr>\n",
       "  </tbody>\n",
       "</table>\n",
       "<p>291071 rows × 12 columns</p>\n",
       "</div>"
      ],
      "text/plain": [
       "               ID_Contrato  Tipo_Adición en el valor  Tipo_Cesión  \\\n",
       "0        CO1.PCCNTR.100002                         0            1   \n",
       "1        CO1.PCCNTR.100004                         0            0   \n",
       "2       CO1.PCCNTR.1000507                         1            0   \n",
       "3       CO1.PCCNTR.1000605                         0            0   \n",
       "4       CO1.PCCNTR.1000801                         0            1   \n",
       "...                    ...                       ...          ...   \n",
       "291066   CO1.PCCNTR.999806                         0            0   \n",
       "291067   CO1.PCCNTR.999807                         0            0   \n",
       "291068   CO1.PCCNTR.999808                         0            0   \n",
       "291069   CO1.PCCNTR.999809                         0            0   \n",
       "291070   CO1.PCCNTR.999901                         1            0   \n",
       "\n",
       "        Tipo_Conclusión  Tipo_Expiración  Tipo_Extensión  \\\n",
       "0                     0                0               0   \n",
       "1                     0                0               0   \n",
       "2                     0                0               0   \n",
       "3                     0                0               0   \n",
       "4                     0                0               0   \n",
       "...                 ...              ...             ...   \n",
       "291066                0                0               0   \n",
       "291067                1                0               0   \n",
       "291068                0                0               0   \n",
       "291069                0                0               0   \n",
       "291070                0                0               0   \n",
       "\n",
       "        Tipo_Modificación General  Tipo_No definido  Tipo_Reactivación  \\\n",
       "0                               0                 0                  0   \n",
       "1                               0                 1                  0   \n",
       "2                               0                 0                  0   \n",
       "3                               1                 0                  0   \n",
       "4                               0                 0                  0   \n",
       "...                           ...               ...                ...   \n",
       "291066                          0                 0                  0   \n",
       "291067                          0                 0                  0   \n",
       "291068                          2                 0                  0   \n",
       "291069                          0                 1                  0   \n",
       "291070                          3                 0                  0   \n",
       "\n",
       "        Tipo_Reducción en el valor  Tipo_Suspensión  Tipo_Terminación  \n",
       "0                                0                0                 0  \n",
       "1                                0                0                 1  \n",
       "2                                0                0                 1  \n",
       "3                                0                0                 0  \n",
       "4                                0                0                 0  \n",
       "...                            ...              ...               ...  \n",
       "291066                           0                0                 1  \n",
       "291067                           0                0                 0  \n",
       "291068                           0                0                 0  \n",
       "291069                           0                0                 0  \n",
       "291070                           0                0                 0  \n",
       "\n",
       "[291071 rows x 12 columns]"
      ]
     },
     "execution_count": 12,
     "metadata": {},
     "output_type": "execute_result"
    }
   ],
   "source": [
    "Ad_ext = X_ext.groupby('ID_Contrato', as_index=False).agg(np.sum)\n",
    "Ad_ext.sort_values(by='ID_Contrato', ascending=True)"
   ]
  },
  {
   "cell_type": "code",
   "execution_count": 13,
   "metadata": {},
   "outputs": [
    {
     "data": {
      "text/plain": [
       "True"
      ]
     },
     "execution_count": 13,
     "metadata": {},
     "output_type": "execute_result"
    }
   ],
   "source": [
    "Ad_ext['ID_Contrato'].is_unique"
   ]
  },
  {
   "cell_type": "markdown",
   "metadata": {},
   "source": [
    "---"
   ]
  },
  {
   "cell_type": "markdown",
   "metadata": {},
   "source": [
    "#  **SECOP II Completo**"
   ]
  },
  {
   "cell_type": "code",
   "execution_count": 14,
   "metadata": {},
   "outputs": [
    {
     "name": "stdout",
     "output_type": "stream",
     "text": [
      "Dimensiones base contratación electrónica en secop: (10140, 43)\n",
      "Dimensiones base adiciones en secop: (698750, 2)\n",
      "Dimensiones base final en secop: (10140, 55)\n",
      "Hay 0 valores perdidos en la columna ID Contrato\n"
     ]
    }
   ],
   "source": [
    "secop_completo = pd.merge(secop_II_ContratosE, Ad_ext, left_on=\"ID Contrato\", right_on= \"ID_Contrato\", how='left', validate=\"one_to_one\")\n",
    "print('Dimensiones base contratación electrónica en secop: {}'.format(secop_II_ContratosE.shape))\n",
    "print('Dimensiones base adiciones en secop: {}'.format(secop_II_Adiciones.shape))\n",
    "print('Dimensiones base final en secop: {}'.format(secop_completo.shape))\n",
    "print('Hay {} valores perdidos en la columna ID Contrato'.format(secop_II_ContratosE['ID Contrato'].isnull().sum()))"
   ]
  },
  {
   "cell_type": "code",
   "execution_count": 15,
   "metadata": {},
   "outputs": [
    {
     "data": {
      "text/plain": [
       "Index(['Nombre Entidad', 'Nit Entidad', 'Sector', 'Rama',\n",
       "       'Entidad Centralizada', 'Proceso de Compra', 'ID Contrato',\n",
       "       'Estado Contrato', 'Codigo de Categoria Principal',\n",
       "       'Descripcion del Proceso', 'Tipo de Contrato',\n",
       "       'Modalidad de Contratacion', 'Justificacion Modalidad de Contratacion',\n",
       "       'Fecha de Firma', 'Fecha de Inicio del Contrato',\n",
       "       'Fecha de Fin del Contrato', 'Fecha de Inicio de Ejecucion',\n",
       "       'Fecha de Fin de Ejecucion', 'Condiciones de Entrega',\n",
       "       'Documento Proveedor', 'Proveedor Adjudicado', 'Es Grupo', 'Es Pyme',\n",
       "       'Habilita Pago Adelantado', 'Liquidación', 'Obligación Ambiental',\n",
       "       'Obligaciones Postconsumo', 'Reversion', 'Valor del Contrato',\n",
       "       'Valor de pago adelantado', 'Valor Facturado',\n",
       "       'Valor Pendiente de Pago', 'Valor Pagado', 'Valor Amortizado',\n",
       "       'Valor Pendiente de Amortizacion', 'Valor Pendiente de Ejecucion',\n",
       "       'Estado BPIN', 'Saldo CDP', 'Saldo Vigencia', 'URLProceso',\n",
       "       'Destino Gasto', 'Origen de los Recursos', 'Dias Adicionados',\n",
       "       'ID_Contrato', 'Tipo_Adición en el valor', 'Tipo_Cesión',\n",
       "       'Tipo_Conclusión', 'Tipo_Expiración', 'Tipo_Extensión',\n",
       "       'Tipo_Modificación General', 'Tipo_No definido', 'Tipo_Reactivación',\n",
       "       'Tipo_Reducción en el valor', 'Tipo_Suspensión', 'Tipo_Terminación'],\n",
       "      dtype='object')"
      ]
     },
     "execution_count": 15,
     "metadata": {},
     "output_type": "execute_result"
    }
   ],
   "source": [
    "secop_completo.columns"
   ]
  },
  {
   "cell_type": "code",
   "execution_count": 16,
   "metadata": {},
   "outputs": [
    {
     "data": {
      "text/html": [
       "<div>\n",
       "<style scoped>\n",
       "    .dataframe tbody tr th:only-of-type {\n",
       "        vertical-align: middle;\n",
       "    }\n",
       "\n",
       "    .dataframe tbody tr th {\n",
       "        vertical-align: top;\n",
       "    }\n",
       "\n",
       "    .dataframe thead th {\n",
       "        text-align: right;\n",
       "    }\n",
       "</style>\n",
       "<table border=\"1\" class=\"dataframe\">\n",
       "  <thead>\n",
       "    <tr style=\"text-align: right;\">\n",
       "      <th></th>\n",
       "      <th>ID Contrato</th>\n",
       "      <th>ID_Contrato</th>\n",
       "    </tr>\n",
       "  </thead>\n",
       "  <tbody>\n",
       "    <tr>\n",
       "      <th>460</th>\n",
       "      <td>CO1.PCCNTR.10001</td>\n",
       "      <td>NaN</td>\n",
       "    </tr>\n",
       "    <tr>\n",
       "      <th>5589</th>\n",
       "      <td>CO1.PCCNTR.1000918</td>\n",
       "      <td>CO1.PCCNTR.1000918</td>\n",
       "    </tr>\n",
       "    <tr>\n",
       "      <th>3590</th>\n",
       "      <td>CO1.PCCNTR.1001031</td>\n",
       "      <td>CO1.PCCNTR.1001031</td>\n",
       "    </tr>\n",
       "    <tr>\n",
       "      <th>7400</th>\n",
       "      <td>CO1.PCCNTR.1001039</td>\n",
       "      <td>NaN</td>\n",
       "    </tr>\n",
       "    <tr>\n",
       "      <th>8415</th>\n",
       "      <td>CO1.PCCNTR.1001047</td>\n",
       "      <td>CO1.PCCNTR.1001047</td>\n",
       "    </tr>\n",
       "    <tr>\n",
       "      <th>...</th>\n",
       "      <td>...</td>\n",
       "      <td>...</td>\n",
       "    </tr>\n",
       "    <tr>\n",
       "      <th>3021</th>\n",
       "      <td>CO1.PCCNTR.999338</td>\n",
       "      <td>CO1.PCCNTR.999338</td>\n",
       "    </tr>\n",
       "    <tr>\n",
       "      <th>7871</th>\n",
       "      <td>CO1.PCCNTR.999405</td>\n",
       "      <td>CO1.PCCNTR.999405</td>\n",
       "    </tr>\n",
       "    <tr>\n",
       "      <th>3609</th>\n",
       "      <td>CO1.PCCNTR.999421</td>\n",
       "      <td>NaN</td>\n",
       "    </tr>\n",
       "    <tr>\n",
       "      <th>9572</th>\n",
       "      <td>CO1.PCCNTR.999529</td>\n",
       "      <td>CO1.PCCNTR.999529</td>\n",
       "    </tr>\n",
       "    <tr>\n",
       "      <th>7443</th>\n",
       "      <td>CO1.PCCNTR.999616</td>\n",
       "      <td>CO1.PCCNTR.999616</td>\n",
       "    </tr>\n",
       "  </tbody>\n",
       "</table>\n",
       "<p>10140 rows × 2 columns</p>\n",
       "</div>"
      ],
      "text/plain": [
       "             ID Contrato         ID_Contrato\n",
       "460     CO1.PCCNTR.10001                 NaN\n",
       "5589  CO1.PCCNTR.1000918  CO1.PCCNTR.1000918\n",
       "3590  CO1.PCCNTR.1001031  CO1.PCCNTR.1001031\n",
       "7400  CO1.PCCNTR.1001039                 NaN\n",
       "8415  CO1.PCCNTR.1001047  CO1.PCCNTR.1001047\n",
       "...                  ...                 ...\n",
       "3021   CO1.PCCNTR.999338   CO1.PCCNTR.999338\n",
       "7871   CO1.PCCNTR.999405   CO1.PCCNTR.999405\n",
       "3609   CO1.PCCNTR.999421                 NaN\n",
       "9572   CO1.PCCNTR.999529   CO1.PCCNTR.999529\n",
       "7443   CO1.PCCNTR.999616   CO1.PCCNTR.999616\n",
       "\n",
       "[10140 rows x 2 columns]"
      ]
     },
     "execution_count": 16,
     "metadata": {},
     "output_type": "execute_result"
    }
   ],
   "source": [
    "IDContrato = ['ID Contrato', 'ID_Contrato']\n",
    "secop_completo[IDContrato].sort_values(by='ID Contrato', ascending=True)"
   ]
  },
  {
   "cell_type": "markdown",
   "metadata": {},
   "source": [
    "---"
   ]
  },
  {
   "cell_type": "markdown",
   "metadata": {},
   "source": [
    "## SECOP II Proveedores con contratos"
   ]
  },
  {
   "cell_type": "code",
   "execution_count": 17,
   "metadata": {},
   "outputs": [
    {
     "data": {
      "text/plain": [
       "(560630, 11)"
      ]
     },
     "execution_count": 17,
     "metadata": {},
     "output_type": "execute_result"
    }
   ],
   "source": [
    "secop_II_Proveedores = pd.read_csv(\"SECOP_II_Proveedores_Registrados.csv\", low_memory=False)\n",
    "secop_II_Proveedores.shape"
   ]
  },
  {
   "cell_type": "code",
   "execution_count": 18,
   "metadata": {},
   "outputs": [
    {
     "data": {
      "text/plain": [
       "Index(['Nombre', 'NIT', 'Tipo Empresa', 'EsPyme', 'Ubicación',\n",
       "       'Fecha Creación', 'Pais', 'Departamento', 'Municipio',\n",
       "       'Codigo Categoria Principal', 'Descripcion Categoria Principal'],\n",
       "      dtype='object')"
      ]
     },
     "execution_count": 18,
     "metadata": {},
     "output_type": "execute_result"
    }
   ],
   "source": [
    "secop_II_Proveedores.columns"
   ]
  },
  {
   "cell_type": "code",
   "execution_count": 19,
   "metadata": {},
   "outputs": [
    {
     "data": {
      "text/plain": [
       "80833443      21\n",
       "1047403743    19\n",
       "44148158      18\n",
       "8083344       10\n",
       "88141364      10\n",
       "              ..\n",
       "1014198241     1\n",
       "901078463      1\n",
       "1075273656     1\n",
       "1014251925     1\n",
       "32939002       1\n",
       "Name: NIT, Length: 491451, dtype: int64"
      ]
     },
     "execution_count": 19,
     "metadata": {},
     "output_type": "execute_result"
    }
   ],
   "source": [
    "sin_nit = ['0000000000','000000000','00000000','0000000', '000000', '00000', '0000','000','00', '0', '1','001','1111111','11111111','0000008', 'no aplica','NO APLICA','No Definido', '900000000', '999999999','9000000000']\n",
    "secop_II_Proveedores['NIT'] = secop_II_Proveedores['NIT'].replace(sin_nit, 0)\n",
    "secop_II_Proveedores = secop_II_Proveedores[secop_II_Proveedores['NIT'] != 0]\n",
    "secop_II_Proveedores['NIT'].value_counts()"
   ]
  },
  {
   "cell_type": "code",
   "execution_count": 20,
   "metadata": {},
   "outputs": [
    {
     "name": "stdout",
     "output_type": "stream",
     "text": [
      "Dimensiones base contratación completa en secop: (10140, 55)\n",
      "Dimensiones base proveedores en secop: (492712, 11)\n",
      "Dimensiones base final en secop: (10283, 66)\n",
      "Hay 0 valores perdidos en la columna ID Contrato\n"
     ]
    }
   ],
   "source": [
    "secop_II = pd.merge(secop_completo, secop_II_Proveedores, left_on=\"Documento Proveedor\", right_on=\"NIT\", how='left')\n",
    "print('Dimensiones base contratación completa en secop: {}'.format(secop_completo.shape))\n",
    "print('Dimensiones base proveedores en secop: {}'.format(secop_II_Proveedores.shape))\n",
    "print('Dimensiones base final en secop: {}'.format(secop_II.shape))\n",
    "print('Hay {} valores perdidos en la columna ID Contrato'.format(secop_II['ID Contrato'].isnull().sum()))"
   ]
  },
  {
   "cell_type": "code",
   "execution_count": 21,
   "metadata": {},
   "outputs": [
    {
     "data": {
      "text/plain": [
       "(10140, 66)"
      ]
     },
     "execution_count": 21,
     "metadata": {},
     "output_type": "execute_result"
    }
   ],
   "source": [
    "secop_II = secop_II.drop_duplicates(subset=['ID Contrato'], keep='first')\n",
    "secop_II.shape"
   ]
  },
  {
   "cell_type": "markdown",
   "metadata": {},
   "source": [
    "---"
   ]
  },
  {
   "cell_type": "markdown",
   "metadata": {},
   "source": [
    "#### Feature engeneering"
   ]
  },
  {
   "cell_type": "code",
   "execution_count": 22,
   "metadata": {},
   "outputs": [
    {
     "data": {
      "text/plain": [
       "Index(['Nombre Entidad', 'Nit Entidad', 'Sector', 'Rama',\n",
       "       'Entidad Centralizada', 'Proceso de Compra', 'ID Contrato',\n",
       "       'Estado Contrato', 'Codigo de Categoria Principal',\n",
       "       'Descripcion del Proceso', 'Tipo de Contrato',\n",
       "       'Modalidad de Contratacion', 'Justificacion Modalidad de Contratacion',\n",
       "       'Fecha de Firma', 'Fecha de Inicio del Contrato',\n",
       "       'Fecha de Fin del Contrato', 'Fecha de Inicio de Ejecucion',\n",
       "       'Fecha de Fin de Ejecucion', 'Condiciones de Entrega',\n",
       "       'Documento Proveedor', 'Proveedor Adjudicado', 'Es Grupo', 'Es Pyme',\n",
       "       'Habilita Pago Adelantado', 'Liquidación', 'Obligación Ambiental',\n",
       "       'Obligaciones Postconsumo', 'Reversion', 'Valor del Contrato',\n",
       "       'Valor de pago adelantado', 'Valor Facturado',\n",
       "       'Valor Pendiente de Pago', 'Valor Pagado', 'Valor Amortizado',\n",
       "       'Valor Pendiente de Amortizacion', 'Valor Pendiente de Ejecucion',\n",
       "       'Estado BPIN', 'Saldo CDP', 'Saldo Vigencia', 'URLProceso',\n",
       "       'Destino Gasto', 'Origen de los Recursos', 'Dias Adicionados',\n",
       "       'ID_Contrato', 'Tipo_Adición en el valor', 'Tipo_Cesión',\n",
       "       'Tipo_Conclusión', 'Tipo_Expiración', 'Tipo_Extensión',\n",
       "       'Tipo_Modificación General', 'Tipo_No definido', 'Tipo_Reactivación',\n",
       "       'Tipo_Reducción en el valor', 'Tipo_Suspensión', 'Tipo_Terminación',\n",
       "       'Nombre', 'NIT', 'Tipo Empresa', 'EsPyme', 'Ubicación',\n",
       "       'Fecha Creación', 'Pais', 'Departamento', 'Municipio',\n",
       "       'Codigo Categoria Principal', 'Descripcion Categoria Principal'],\n",
       "      dtype='object')"
      ]
     },
     "execution_count": 22,
     "metadata": {},
     "output_type": "execute_result"
    }
   ],
   "source": [
    "secop_II.columns"
   ]
  },
  {
   "cell_type": "code",
   "execution_count": 23,
   "metadata": {},
   "outputs": [],
   "source": [
    "### Select columns\n",
    "\n",
    "drop_vars = ['Nit Entidad', 'Proceso de Compra', 'Descripcion del Proceso', 'Justificacion Modalidad de Contratacion', 'Documento Proveedor',\n",
    "            'Estado BPIN', 'Saldo CDP', 'Saldo Vigencia', 'URLProceso','Descripcion Categoria Principal', 'Ubicación', 'ID Contrato', \n",
    "            'Tipo_Expiración', 'Tipo_Reducción en el valor', 'ID_Contrato']\n",
    "\n",
    "secop_II.drop(drop_vars, inplace=True, axis=1)"
   ]
  },
  {
   "cell_type": "code",
   "execution_count": 24,
   "metadata": {},
   "outputs": [
    {
     "data": {
      "text/plain": [
       "Nombre Entidad                     [SUBRED INTEGRADA DE SERVICIOS DE SALUD SUR E....\n",
       "Sector                             [Salud y Protección Social, Cultura, Servicio ...\n",
       "Rama                                               [Ejecutivo, Corporación Autónoma]\n",
       "Entidad Centralizada                    [Descentralizada, Centralizada, No Definido]\n",
       "Estado Contrato                    [Modificado, Activo, Borrador, terminado, Canc...\n",
       "Codigo de Categoria Principal      [V1.80111701, V1.80161507, V1.55121700, V1.121...\n",
       "Tipo de Contrato                   [DecreeLaw092/2017, Otro, Suministros, Comprav...\n",
       "Modalidad de Contratacion          [Contratación régimen especial, Contratación d...\n",
       "Fecha de Firma                     [08/14/2019, 10/11/2018, nan, 11/21/2018, 10/0...\n",
       "Fecha de Inicio del Contrato       [08/13/2019, 10/22/2018, nan, 11/20/2018, 10/0...\n",
       "Fecha de Fin del Contrato          [09/30/2019, 10/22/2018, nan, 06/20/2019, 01/0...\n",
       "Fecha de Inicio de Ejecucion       [08/13/2019, 10/22/2018, nan, 11/20/2018, 10/0...\n",
       "Fecha de Fin de Ejecucion          [01/31/2020, 10/22/2018, nan, 06/19/2019, 01/0...\n",
       "Condiciones de Entrega             [A convenir, No Definido, Como acordado previa...\n",
       "Proveedor Adjudicado               [carlos mario martinez alvarez, CEETTV S-A., A...\n",
       "Es Grupo                                                                    [No, Si]\n",
       "Es Pyme                                                                     [Si, No]\n",
       "Habilita Pago Adelantado                                       [No, No Definido, Si]\n",
       "Liquidación                                                                 [No, Si]\n",
       "Obligación Ambiental                                                        [No, Si]\n",
       "Obligaciones Postconsumo                                                    [No, Si]\n",
       "Reversion                                                                   [No, Si]\n",
       "Valor del Contrato                 [9,528,960, 0, 160,000,000, 2,289,312,500, 5,2...\n",
       "Valor de pago adelantado           [0, 490,800,000, 513,069,565, 469,470,851, 911...\n",
       "Valor Facturado                    [0, 5,209,133, 917,847, 25,000,000, 18,590,000...\n",
       "Valor Pendiente de Pago            [9,528,960, 0, 160,000,000, 2,289,312,500, 271...\n",
       "Valor Pagado                       [0, 5,209,133, 917,847, 25,000,000, 18,590,000...\n",
       "Valor Amortizado                   [0, 1,090,714,110, 11,542,371, 419,540,991, 54...\n",
       "Valor Pendiente de Amortizacion    [0, 490,800,000, 513,069,565, 469,470,851, 911...\n",
       "Valor Pendiente de Ejecucion       [9,528,960, 0, 160,000,000, 2,289,312,500, 271...\n",
       "Destino Gasto                               [Funcionamiento, No Definido, Inversión]\n",
       "Origen de los Recursos             [Recursos propios, No Especificado, Regalías, ...\n",
       "Dias Adicionados                   [0, 16, 34, 123, 101, 17, 92, 61, 360, 168, 5,...\n",
       "Tipo_Adición en el valor              [0.0, nan, 1.0, 3.0, 2.0, 4.0, 5.0, 10.0, 6.0]\n",
       "Tipo_Cesión                                                     [0.0, nan, 1.0, 2.0]\n",
       "Tipo_Conclusión                                            [0.0, nan, 1.0, 2.0, 3.0]\n",
       "Tipo_Extensión                                                       [0.0, nan, 1.0]\n",
       "Tipo_Modificación General          [12.0, nan, 0.0, 1.0, 6.0, 10.0, 7.0, 2.0, 8.0...\n",
       "Tipo_No definido                                      [1.0, nan, 0.0, 2.0, 3.0, 4.0]\n",
       "Tipo_Reactivación                  [0.0, nan, 1.0, 4.0, 10.0, 2.0, 3.0, 6.0, 5.0,...\n",
       "Tipo_Suspensión                    [0.0, nan, 1.0, 5.0, 7.0, 3.0, 2.0, 11.0, 6.0,...\n",
       "Tipo_Terminación                                      [0.0, nan, 2.0, 1.0, 3.0, 5.0]\n",
       "Nombre                             [carlos mario martinez alvarez, CEETTV S-A., A...\n",
       "NIT                                [1100685632, 900163045, 800145548, 8600722796,...\n",
       "Tipo Empresa                       [Persona Natural colombiana, Sociedad Anónima ...\n",
       "EsPyme                                                                 [Si, No, nan]\n",
       "Fecha Creación                     [07/31/2019, 05/04/2018, 04/21/2015, 09/15/201...\n",
       "Pais                                                    [No Definido, Colombia, nan]\n",
       "Departamento                       [No Definido, Tolima, Distrito Capital de Bogo...\n",
       "Municipio                          [No Definido, Melgar, Bogotá, nan, Envigado, A...\n",
       "Codigo Categoria Principal         [ND, nan, V1.82150000, V1.83110000, V1.2210000...\n",
       "dtype: object"
      ]
     },
     "execution_count": 24,
     "metadata": {},
     "output_type": "execute_result"
    }
   ],
   "source": [
    "pd.Series({c: secop_II[c].unique() for c in secop_II})"
   ]
  },
  {
   "cell_type": "code",
   "execution_count": 25,
   "metadata": {},
   "outputs": [
    {
     "data": {
      "text/plain": [
       "Activo               3787\n",
       "Modificado           3149\n",
       "terminado             689\n",
       "Borrador              682\n",
       "enviado Proveedor     662\n",
       "En ejecución          570\n",
       "Cancelado             264\n",
       "En aprobación         161\n",
       "Cerrado                95\n",
       "Suspendido             75\n",
       "cedido                  5\n",
       "Prorrogado              1\n",
       "Name: Estado Contrato, dtype: int64"
      ]
     },
     "execution_count": 25,
     "metadata": {},
     "output_type": "execute_result"
    }
   ],
   "source": [
    "secop_II['Estado Contrato'].value_counts()"
   ]
  },
  {
   "cell_type": "code",
   "execution_count": 26,
   "metadata": {},
   "outputs": [],
   "source": [
    "secop_II = secop_II[secop_II['Estado Contrato'] != 'Borrador']\n",
    "secop_II = secop_II[secop_II['Estado Contrato'] != 'En aprobación']\n",
    "secop_II = secop_II[secop_II['Estado Contrato'] != 'enviado Proveedor']"
   ]
  },
  {
   "cell_type": "code",
   "execution_count": 27,
   "metadata": {},
   "outputs": [],
   "source": [
    "ubicacion = ['Pais', 'Departamento', 'Municipio', 'Codigo Categoria Principal']"
   ]
  },
  {
   "cell_type": "code",
   "execution_count": 28,
   "metadata": {},
   "outputs": [
    {
     "data": {
      "text/html": [
       "<div>\n",
       "<style scoped>\n",
       "    .dataframe tbody tr th:only-of-type {\n",
       "        vertical-align: middle;\n",
       "    }\n",
       "\n",
       "    .dataframe tbody tr th {\n",
       "        vertical-align: top;\n",
       "    }\n",
       "\n",
       "    .dataframe thead th {\n",
       "        text-align: right;\n",
       "    }\n",
       "</style>\n",
       "<table border=\"1\" class=\"dataframe\">\n",
       "  <thead>\n",
       "    <tr style=\"text-align: right;\">\n",
       "      <th></th>\n",
       "      <th>Pais</th>\n",
       "      <th>Departamento</th>\n",
       "      <th>Municipio</th>\n",
       "      <th>Codigo Categoria Principal</th>\n",
       "    </tr>\n",
       "  </thead>\n",
       "  <tbody>\n",
       "    <tr>\n",
       "      <th>0</th>\n",
       "      <td>No Definido</td>\n",
       "      <td>No Definido</td>\n",
       "      <td>No Definido</td>\n",
       "      <td>ND</td>\n",
       "    </tr>\n",
       "    <tr>\n",
       "      <th>1</th>\n",
       "      <td>No Definido</td>\n",
       "      <td>No Definido</td>\n",
       "      <td>No Definido</td>\n",
       "      <td>ND</td>\n",
       "    </tr>\n",
       "    <tr>\n",
       "      <th>3</th>\n",
       "      <td>Colombia</td>\n",
       "      <td>Distrito Capital de Bogotá</td>\n",
       "      <td>Bogotá</td>\n",
       "      <td>ND</td>\n",
       "    </tr>\n",
       "    <tr>\n",
       "      <th>4</th>\n",
       "      <td>Colombia</td>\n",
       "      <td>Cauca</td>\n",
       "      <td>No Definido</td>\n",
       "      <td>ND</td>\n",
       "    </tr>\n",
       "    <tr>\n",
       "      <th>5</th>\n",
       "      <td>Colombia</td>\n",
       "      <td>Valle del Cauca</td>\n",
       "      <td>No Definido</td>\n",
       "      <td>ND</td>\n",
       "    </tr>\n",
       "    <tr>\n",
       "      <th>...</th>\n",
       "      <td>...</td>\n",
       "      <td>...</td>\n",
       "      <td>...</td>\n",
       "      <td>...</td>\n",
       "    </tr>\n",
       "    <tr>\n",
       "      <th>10276</th>\n",
       "      <td>Colombia</td>\n",
       "      <td>No Definido</td>\n",
       "      <td>No Definido</td>\n",
       "      <td>ND</td>\n",
       "    </tr>\n",
       "    <tr>\n",
       "      <th>10278</th>\n",
       "      <td>Colombia</td>\n",
       "      <td>Distrito Capital de Bogotá</td>\n",
       "      <td>Bogotá</td>\n",
       "      <td>ND</td>\n",
       "    </tr>\n",
       "    <tr>\n",
       "      <th>10280</th>\n",
       "      <td>No Definido</td>\n",
       "      <td>No Definido</td>\n",
       "      <td>No Definido</td>\n",
       "      <td>ND</td>\n",
       "    </tr>\n",
       "    <tr>\n",
       "      <th>10281</th>\n",
       "      <td>Colombia</td>\n",
       "      <td>Distrito Capital de Bogotá</td>\n",
       "      <td>Bogotá</td>\n",
       "      <td>ND</td>\n",
       "    </tr>\n",
       "    <tr>\n",
       "      <th>10282</th>\n",
       "      <td>Colombia</td>\n",
       "      <td>Distrito Capital de Bogotá</td>\n",
       "      <td>Bogotá</td>\n",
       "      <td>ND</td>\n",
       "    </tr>\n",
       "  </tbody>\n",
       "</table>\n",
       "<p>8635 rows × 4 columns</p>\n",
       "</div>"
      ],
      "text/plain": [
       "              Pais                Departamento    Municipio  \\\n",
       "0      No Definido                 No Definido  No Definido   \n",
       "1      No Definido                 No Definido  No Definido   \n",
       "3         Colombia  Distrito Capital de Bogotá       Bogotá   \n",
       "4         Colombia                       Cauca  No Definido   \n",
       "5         Colombia             Valle del Cauca  No Definido   \n",
       "...            ...                         ...          ...   \n",
       "10276     Colombia                 No Definido  No Definido   \n",
       "10278     Colombia  Distrito Capital de Bogotá       Bogotá   \n",
       "10280  No Definido                 No Definido  No Definido   \n",
       "10281     Colombia  Distrito Capital de Bogotá       Bogotá   \n",
       "10282     Colombia  Distrito Capital de Bogotá       Bogotá   \n",
       "\n",
       "      Codigo Categoria Principal  \n",
       "0                             ND  \n",
       "1                             ND  \n",
       "3                             ND  \n",
       "4                             ND  \n",
       "5                             ND  \n",
       "...                          ...  \n",
       "10276                         ND  \n",
       "10278                         ND  \n",
       "10280                         ND  \n",
       "10281                         ND  \n",
       "10282                         ND  \n",
       "\n",
       "[8635 rows x 4 columns]"
      ]
     },
     "execution_count": 28,
     "metadata": {},
     "output_type": "execute_result"
    }
   ],
   "source": [
    "secop_II[ubicacion]"
   ]
  },
  {
   "cell_type": "code",
   "execution_count": 29,
   "metadata": {},
   "outputs": [],
   "source": [
    "secop_II[ubicacion] = secop_II[ubicacion].fillna('No Definido')\n",
    "secop_II['Codigo Categoria Principal'] = secop_II['Codigo Categoria Principal'].replace(to_replace ='ND', value = 'No Definido', regex = True)"
   ]
  },
  {
   "cell_type": "code",
   "execution_count": 30,
   "metadata": {},
   "outputs": [],
   "source": [
    "secop_II = secop_II.fillna(0)"
   ]
  },
  {
   "cell_type": "code",
   "execution_count": 31,
   "metadata": {},
   "outputs": [
    {
     "data": {
      "text/plain": [
       "Nombre Entidad                      object\n",
       "Sector                              object\n",
       "Rama                                object\n",
       "Entidad Centralizada                object\n",
       "Estado Contrato                     object\n",
       "Codigo de Categoria Principal       object\n",
       "Tipo de Contrato                    object\n",
       "Modalidad de Contratacion           object\n",
       "Fecha de Firma                      object\n",
       "Fecha de Inicio del Contrato        object\n",
       "Fecha de Fin del Contrato           object\n",
       "Fecha de Inicio de Ejecucion        object\n",
       "Fecha de Fin de Ejecucion           object\n",
       "Condiciones de Entrega              object\n",
       "Proveedor Adjudicado                object\n",
       "Es Grupo                            object\n",
       "Es Pyme                             object\n",
       "Habilita Pago Adelantado            object\n",
       "Liquidación                         object\n",
       "Obligación Ambiental                object\n",
       "Obligaciones Postconsumo            object\n",
       "Reversion                           object\n",
       "Valor del Contrato                  object\n",
       "Valor de pago adelantado            object\n",
       "Valor Facturado                     object\n",
       "Valor Pendiente de Pago             object\n",
       "Valor Pagado                        object\n",
       "Valor Amortizado                    object\n",
       "Valor Pendiente de Amortizacion     object\n",
       "Valor Pendiente de Ejecucion        object\n",
       "Destino Gasto                       object\n",
       "Origen de los Recursos              object\n",
       "Dias Adicionados                     int64\n",
       "Tipo_Adición en el valor           float64\n",
       "Tipo_Cesión                        float64\n",
       "Tipo_Conclusión                    float64\n",
       "Tipo_Extensión                     float64\n",
       "Tipo_Modificación General          float64\n",
       "Tipo_No definido                   float64\n",
       "Tipo_Reactivación                  float64\n",
       "Tipo_Suspensión                    float64\n",
       "Tipo_Terminación                   float64\n",
       "Nombre                              object\n",
       "NIT                                 object\n",
       "Tipo Empresa                        object\n",
       "EsPyme                              object\n",
       "Fecha Creación                      object\n",
       "Pais                                object\n",
       "Departamento                        object\n",
       "Municipio                           object\n",
       "Codigo Categoria Principal          object\n",
       "dtype: object"
      ]
     },
     "execution_count": 31,
     "metadata": {},
     "output_type": "execute_result"
    }
   ],
   "source": [
    "secop_II.dtypes"
   ]
  },
  {
   "cell_type": "markdown",
   "metadata": {},
   "source": [
    "- Fechas"
   ]
  },
  {
   "cell_type": "code",
   "execution_count": 32,
   "metadata": {},
   "outputs": [
    {
     "data": {
      "text/html": [
       "<div>\n",
       "<style scoped>\n",
       "    .dataframe tbody tr th:only-of-type {\n",
       "        vertical-align: middle;\n",
       "    }\n",
       "\n",
       "    .dataframe tbody tr th {\n",
       "        vertical-align: top;\n",
       "    }\n",
       "\n",
       "    .dataframe thead th {\n",
       "        text-align: right;\n",
       "    }\n",
       "</style>\n",
       "<table border=\"1\" class=\"dataframe\">\n",
       "  <thead>\n",
       "    <tr style=\"text-align: right;\">\n",
       "      <th></th>\n",
       "      <th>Fecha de Firma</th>\n",
       "      <th>Fecha de Inicio del Contrato</th>\n",
       "      <th>Fecha de Fin del Contrato</th>\n",
       "      <th>Fecha de Inicio de Ejecucion</th>\n",
       "      <th>Fecha de Fin de Ejecucion</th>\n",
       "    </tr>\n",
       "  </thead>\n",
       "  <tbody>\n",
       "    <tr>\n",
       "      <th>0</th>\n",
       "      <td>2019-08-14</td>\n",
       "      <td>2019-08-13</td>\n",
       "      <td>2019-09-30</td>\n",
       "      <td>2019-08-13</td>\n",
       "      <td>2020-01-31</td>\n",
       "    </tr>\n",
       "    <tr>\n",
       "      <th>1</th>\n",
       "      <td>2018-10-11</td>\n",
       "      <td>2018-10-22</td>\n",
       "      <td>2018-10-22</td>\n",
       "      <td>2018-10-22</td>\n",
       "      <td>2018-10-22</td>\n",
       "    </tr>\n",
       "    <tr>\n",
       "      <th>3</th>\n",
       "      <td>2018-11-21</td>\n",
       "      <td>2018-11-20</td>\n",
       "      <td>2019-06-20</td>\n",
       "      <td>2018-11-20</td>\n",
       "      <td>2019-06-19</td>\n",
       "    </tr>\n",
       "    <tr>\n",
       "      <th>4</th>\n",
       "      <td>2019-10-02</td>\n",
       "      <td>2019-10-01</td>\n",
       "      <td>2020-01-02</td>\n",
       "      <td>2019-10-02</td>\n",
       "      <td>2020-01-01</td>\n",
       "    </tr>\n",
       "    <tr>\n",
       "      <th>5</th>\n",
       "      <td>2017-11-28</td>\n",
       "      <td>2017-11-29</td>\n",
       "      <td>2017-12-29</td>\n",
       "      <td>2017-11-30</td>\n",
       "      <td>2017-12-28</td>\n",
       "    </tr>\n",
       "  </tbody>\n",
       "</table>\n",
       "</div>"
      ],
      "text/plain": [
       "  Fecha de Firma Fecha de Inicio del Contrato Fecha de Fin del Contrato  \\\n",
       "0     2019-08-14                   2019-08-13                2019-09-30   \n",
       "1     2018-10-11                   2018-10-22                2018-10-22   \n",
       "3     2018-11-21                   2018-11-20                2019-06-20   \n",
       "4     2019-10-02                   2019-10-01                2020-01-02   \n",
       "5     2017-11-28                   2017-11-29                2017-12-29   \n",
       "\n",
       "  Fecha de Inicio de Ejecucion Fecha de Fin de Ejecucion  \n",
       "0                   2019-08-13                2020-01-31  \n",
       "1                   2018-10-22                2018-10-22  \n",
       "3                   2018-11-20                2019-06-19  \n",
       "4                   2019-10-02                2020-01-01  \n",
       "5                   2017-11-30                2017-12-28  "
      ]
     },
     "execution_count": 32,
     "metadata": {},
     "output_type": "execute_result"
    }
   ],
   "source": [
    "Fechas = ['Fecha de Firma', 'Fecha de Inicio del Contrato', 'Fecha de Fin del Contrato', \n",
    "          'Fecha de Inicio de Ejecucion', 'Fecha de Fin de Ejecucion']\n",
    "\n",
    "for i in Fechas:\n",
    "    secop_II[i] = pd.to_datetime(secop_II[i])\n",
    "    \n",
    "for i in Fechas:\n",
    "    secop_II.loc[secop_II[i] == '1970-01-01', Fechas] = pd.NaT\n",
    "    \n",
    "secop_II[Fechas].head()"
   ]
  },
  {
   "cell_type": "code",
   "execution_count": 33,
   "metadata": {},
   "outputs": [],
   "source": [
    "#Firma = ['Año de firma','Mes de firma']\n",
    "secop_II['Año de firma'] = secop_II['Fecha de Firma'].apply(lambda x: x.year)\n",
    "#secop_II['Mes de firma'] = secop_II['Fecha de Firma'].apply(lambda x: x.month)\n",
    "#secop_II[Firma].head()"
   ]
  },
  {
   "cell_type": "code",
   "execution_count": 34,
   "metadata": {},
   "outputs": [
    {
     "data": {
      "text/plain": [
       "2018.0    3069\n",
       "2019.0    2827\n",
       "2020.0     747\n",
       "2017.0     240\n",
       "2016.0       3\n",
       "Name: Año de firma, dtype: int64"
      ]
     },
     "execution_count": 34,
     "metadata": {},
     "output_type": "execute_result"
    }
   ],
   "source": [
    "secop_II['Año de firma'].value_counts()"
   ]
  },
  {
   "cell_type": "code",
   "execution_count": 35,
   "metadata": {},
   "outputs": [
    {
     "data": {
      "text/html": [
       "<div>\n",
       "<style scoped>\n",
       "    .dataframe tbody tr th:only-of-type {\n",
       "        vertical-align: middle;\n",
       "    }\n",
       "\n",
       "    .dataframe tbody tr th {\n",
       "        vertical-align: top;\n",
       "    }\n",
       "\n",
       "    .dataframe thead th {\n",
       "        text-align: right;\n",
       "    }\n",
       "</style>\n",
       "<table border=\"1\" class=\"dataframe\">\n",
       "  <thead>\n",
       "    <tr style=\"text-align: right;\">\n",
       "      <th></th>\n",
       "      <th>Plazo Contrato</th>\n",
       "      <th>Plazo Ejecucion</th>\n",
       "      <th>Dias Adicionados</th>\n",
       "    </tr>\n",
       "  </thead>\n",
       "  <tbody>\n",
       "    <tr>\n",
       "      <th>0</th>\n",
       "      <td>48 days</td>\n",
       "      <td>171 days</td>\n",
       "      <td>0</td>\n",
       "    </tr>\n",
       "    <tr>\n",
       "      <th>1</th>\n",
       "      <td>0 days</td>\n",
       "      <td>0 days</td>\n",
       "      <td>0</td>\n",
       "    </tr>\n",
       "    <tr>\n",
       "      <th>3</th>\n",
       "      <td>212 days</td>\n",
       "      <td>211 days</td>\n",
       "      <td>0</td>\n",
       "    </tr>\n",
       "    <tr>\n",
       "      <th>4</th>\n",
       "      <td>93 days</td>\n",
       "      <td>91 days</td>\n",
       "      <td>0</td>\n",
       "    </tr>\n",
       "    <tr>\n",
       "      <th>5</th>\n",
       "      <td>30 days</td>\n",
       "      <td>28 days</td>\n",
       "      <td>0</td>\n",
       "    </tr>\n",
       "    <tr>\n",
       "      <th>...</th>\n",
       "      <td>...</td>\n",
       "      <td>...</td>\n",
       "      <td>...</td>\n",
       "    </tr>\n",
       "    <tr>\n",
       "      <th>10276</th>\n",
       "      <td>100 days</td>\n",
       "      <td>100 days</td>\n",
       "      <td>0</td>\n",
       "    </tr>\n",
       "    <tr>\n",
       "      <th>10278</th>\n",
       "      <td>132 days</td>\n",
       "      <td>132 days</td>\n",
       "      <td>0</td>\n",
       "    </tr>\n",
       "    <tr>\n",
       "      <th>10280</th>\n",
       "      <td>NaT</td>\n",
       "      <td>NaT</td>\n",
       "      <td>0</td>\n",
       "    </tr>\n",
       "    <tr>\n",
       "      <th>10281</th>\n",
       "      <td>NaT</td>\n",
       "      <td>NaT</td>\n",
       "      <td>0</td>\n",
       "    </tr>\n",
       "    <tr>\n",
       "      <th>10282</th>\n",
       "      <td>248 days</td>\n",
       "      <td>243 days</td>\n",
       "      <td>4</td>\n",
       "    </tr>\n",
       "  </tbody>\n",
       "</table>\n",
       "<p>8635 rows × 3 columns</p>\n",
       "</div>"
      ],
      "text/plain": [
       "      Plazo Contrato Plazo Ejecucion  Dias Adicionados\n",
       "0            48 days        171 days                 0\n",
       "1             0 days          0 days                 0\n",
       "3           212 days        211 days                 0\n",
       "4            93 days         91 days                 0\n",
       "5            30 days         28 days                 0\n",
       "...              ...             ...               ...\n",
       "10276       100 days        100 days                 0\n",
       "10278       132 days        132 days                 0\n",
       "10280            NaT             NaT                 0\n",
       "10281            NaT             NaT                 0\n",
       "10282       248 days        243 days                 4\n",
       "\n",
       "[8635 rows x 3 columns]"
      ]
     },
     "execution_count": 35,
     "metadata": {},
     "output_type": "execute_result"
    }
   ],
   "source": [
    "# Duración del contrato\n",
    "secop_II['Plazo Contrato'] = secop_II['Fecha de Fin del Contrato'] - secop_II['Fecha de Inicio del Contrato']\n",
    "# Duración ejecución\n",
    "secop_II['Plazo Ejecucion'] = secop_II['Fecha de Fin de Ejecucion'] - secop_II['Fecha de Inicio de Ejecucion']\n",
    "# Diferencia entre firma e inicio de ejecución\n",
    "secop_II['Tiempo Demora'] = secop_II['Fecha de Fin del Contrato'] - secop_II['Fecha de Inicio del Contrato']\n",
    "\n",
    "Ejecucion = ['Plazo Contrato', 'Plazo Ejecucion', 'Dias Adicionados']\n",
    "\n",
    "secop_II[Ejecucion]"
   ]
  },
  {
   "cell_type": "markdown",
   "metadata": {},
   "source": [
    "- Valores"
   ]
  },
  {
   "cell_type": "code",
   "execution_count": 36,
   "metadata": {},
   "outputs": [],
   "source": [
    "Valores = ['Valor del Contrato', 'Valor de pago adelantado','Valor Facturado', 'Valor Pendiente de Pago',\n",
    "           'Valor Pagado', 'Valor Amortizado', 'Valor Pendiente de Amortizacion', 'Valor Pendiente de Ejecucion']"
   ]
  },
  {
   "cell_type": "code",
   "execution_count": 37,
   "metadata": {},
   "outputs": [],
   "source": [
    "for i in Valores:\n",
    "    secop_II[i] = pd.to_numeric(secop_II[i].apply(lambda x: str(x.replace(',',''))), errors='coerce')"
   ]
  },
  {
   "cell_type": "code",
   "execution_count": 38,
   "metadata": {},
   "outputs": [
    {
     "data": {
      "text/html": [
       "<div>\n",
       "<style scoped>\n",
       "    .dataframe tbody tr th:only-of-type {\n",
       "        vertical-align: middle;\n",
       "    }\n",
       "\n",
       "    .dataframe tbody tr th {\n",
       "        vertical-align: top;\n",
       "    }\n",
       "\n",
       "    .dataframe thead th {\n",
       "        text-align: right;\n",
       "    }\n",
       "</style>\n",
       "<table border=\"1\" class=\"dataframe\">\n",
       "  <thead>\n",
       "    <tr style=\"text-align: right;\">\n",
       "      <th></th>\n",
       "      <th>Valor del Contrato</th>\n",
       "      <th>Valor de pago adelantado</th>\n",
       "      <th>Valor Facturado</th>\n",
       "      <th>Valor Pendiente de Pago</th>\n",
       "      <th>Valor Pagado</th>\n",
       "      <th>Valor Amortizado</th>\n",
       "      <th>Valor Pendiente de Amortizacion</th>\n",
       "      <th>Valor Pendiente de Ejecucion</th>\n",
       "    </tr>\n",
       "  </thead>\n",
       "  <tbody>\n",
       "    <tr>\n",
       "      <th>0</th>\n",
       "      <td>9528960</td>\n",
       "      <td>0</td>\n",
       "      <td>0</td>\n",
       "      <td>9528960</td>\n",
       "      <td>0</td>\n",
       "      <td>0</td>\n",
       "      <td>0</td>\n",
       "      <td>9528960</td>\n",
       "    </tr>\n",
       "    <tr>\n",
       "      <th>1</th>\n",
       "      <td>0</td>\n",
       "      <td>0</td>\n",
       "      <td>0</td>\n",
       "      <td>0</td>\n",
       "      <td>0</td>\n",
       "      <td>0</td>\n",
       "      <td>0</td>\n",
       "      <td>0</td>\n",
       "    </tr>\n",
       "    <tr>\n",
       "      <th>3</th>\n",
       "      <td>2289312500</td>\n",
       "      <td>0</td>\n",
       "      <td>0</td>\n",
       "      <td>2289312500</td>\n",
       "      <td>0</td>\n",
       "      <td>0</td>\n",
       "      <td>0</td>\n",
       "      <td>2289312500</td>\n",
       "    </tr>\n",
       "    <tr>\n",
       "      <th>4</th>\n",
       "      <td>5209133</td>\n",
       "      <td>0</td>\n",
       "      <td>5209133</td>\n",
       "      <td>0</td>\n",
       "      <td>5209133</td>\n",
       "      <td>0</td>\n",
       "      <td>0</td>\n",
       "      <td>0</td>\n",
       "    </tr>\n",
       "    <tr>\n",
       "      <th>5</th>\n",
       "      <td>917847</td>\n",
       "      <td>0</td>\n",
       "      <td>917847</td>\n",
       "      <td>0</td>\n",
       "      <td>917847</td>\n",
       "      <td>0</td>\n",
       "      <td>0</td>\n",
       "      <td>0</td>\n",
       "    </tr>\n",
       "  </tbody>\n",
       "</table>\n",
       "</div>"
      ],
      "text/plain": [
       "   Valor del Contrato  Valor de pago adelantado  Valor Facturado  \\\n",
       "0             9528960                         0                0   \n",
       "1                   0                         0                0   \n",
       "3          2289312500                         0                0   \n",
       "4             5209133                         0          5209133   \n",
       "5              917847                         0           917847   \n",
       "\n",
       "   Valor Pendiente de Pago  Valor Pagado  Valor Amortizado  \\\n",
       "0                  9528960             0                 0   \n",
       "1                        0             0                 0   \n",
       "3               2289312500             0                 0   \n",
       "4                        0       5209133                 0   \n",
       "5                        0        917847                 0   \n",
       "\n",
       "   Valor Pendiente de Amortizacion  Valor Pendiente de Ejecucion  \n",
       "0                                0                       9528960  \n",
       "1                                0                             0  \n",
       "3                                0                    2289312500  \n",
       "4                                0                             0  \n",
       "5                                0                             0  "
      ]
     },
     "execution_count": 38,
     "metadata": {},
     "output_type": "execute_result"
    }
   ],
   "source": [
    "secop_II[Valores].head()"
   ]
  },
  {
   "cell_type": "code",
   "execution_count": 39,
   "metadata": {},
   "outputs": [
    {
     "data": {
      "text/plain": [
       "4441771539460910"
      ]
     },
     "execution_count": 39,
     "metadata": {},
     "output_type": "execute_result"
    }
   ],
   "source": [
    "secop_II['Valor del Contrato'].sum()"
   ]
  },
  {
   "cell_type": "code",
   "execution_count": 40,
   "metadata": {},
   "outputs": [
    {
     "data": {
      "text/html": [
       "<div>\n",
       "<style scoped>\n",
       "    .dataframe tbody tr th:only-of-type {\n",
       "        vertical-align: middle;\n",
       "    }\n",
       "\n",
       "    .dataframe tbody tr th {\n",
       "        vertical-align: top;\n",
       "    }\n",
       "\n",
       "    .dataframe thead th {\n",
       "        text-align: right;\n",
       "    }\n",
       "</style>\n",
       "<table border=\"1\" class=\"dataframe\">\n",
       "  <thead>\n",
       "    <tr style=\"text-align: right;\">\n",
       "      <th></th>\n",
       "      <th>V_Pendiente de ejecucion</th>\n",
       "      <th>V_Pendiente de amortizacion</th>\n",
       "      <th>V_Amortizado</th>\n",
       "      <th>V_Pagado</th>\n",
       "      <th>V_Pendiente de pago</th>\n",
       "      <th>V_Facturado</th>\n",
       "      <th>V_Adelantado</th>\n",
       "    </tr>\n",
       "  </thead>\n",
       "  <tbody>\n",
       "    <tr>\n",
       "      <th>0</th>\n",
       "      <td>1.0</td>\n",
       "      <td>0.0</td>\n",
       "      <td>0.0</td>\n",
       "      <td>0.0</td>\n",
       "      <td>1.0</td>\n",
       "      <td>0.0</td>\n",
       "      <td>0.0</td>\n",
       "    </tr>\n",
       "    <tr>\n",
       "      <th>1</th>\n",
       "      <td>NaN</td>\n",
       "      <td>NaN</td>\n",
       "      <td>NaN</td>\n",
       "      <td>NaN</td>\n",
       "      <td>NaN</td>\n",
       "      <td>NaN</td>\n",
       "      <td>NaN</td>\n",
       "    </tr>\n",
       "    <tr>\n",
       "      <th>3</th>\n",
       "      <td>1.0</td>\n",
       "      <td>0.0</td>\n",
       "      <td>0.0</td>\n",
       "      <td>0.0</td>\n",
       "      <td>1.0</td>\n",
       "      <td>0.0</td>\n",
       "      <td>0.0</td>\n",
       "    </tr>\n",
       "    <tr>\n",
       "      <th>4</th>\n",
       "      <td>0.0</td>\n",
       "      <td>0.0</td>\n",
       "      <td>0.0</td>\n",
       "      <td>1.0</td>\n",
       "      <td>0.0</td>\n",
       "      <td>1.0</td>\n",
       "      <td>0.0</td>\n",
       "    </tr>\n",
       "    <tr>\n",
       "      <th>5</th>\n",
       "      <td>0.0</td>\n",
       "      <td>0.0</td>\n",
       "      <td>0.0</td>\n",
       "      <td>1.0</td>\n",
       "      <td>0.0</td>\n",
       "      <td>1.0</td>\n",
       "      <td>0.0</td>\n",
       "    </tr>\n",
       "  </tbody>\n",
       "</table>\n",
       "</div>"
      ],
      "text/plain": [
       "   V_Pendiente de ejecucion  V_Pendiente de amortizacion  V_Amortizado  \\\n",
       "0                       1.0                          0.0           0.0   \n",
       "1                       NaN                          NaN           NaN   \n",
       "3                       1.0                          0.0           0.0   \n",
       "4                       0.0                          0.0           0.0   \n",
       "5                       0.0                          0.0           0.0   \n",
       "\n",
       "   V_Pagado  V_Pendiente de pago  V_Facturado  V_Adelantado  \n",
       "0       0.0                  1.0          0.0           0.0  \n",
       "1       NaN                  NaN          NaN           NaN  \n",
       "3       0.0                  1.0          0.0           0.0  \n",
       "4       1.0                  0.0          1.0           0.0  \n",
       "5       1.0                  0.0          1.0           0.0  "
      ]
     },
     "execution_count": 40,
     "metadata": {},
     "output_type": "execute_result"
    }
   ],
   "source": [
    "Pagos = ['V_Pendiente de ejecucion', 'V_Pendiente de amortizacion', 'V_Amortizado', 'V_Pagado',\n",
    "         'V_Pendiente de pago', 'V_Facturado', 'V_Adelantado']\n",
    "\n",
    "secop_II['V_Pendiente de ejecucion'] = secop_II['Valor Pendiente de Ejecucion'] / secop_II['Valor del Contrato']\n",
    "secop_II['V_Pendiente de amortizacion'] = secop_II['Valor Pendiente de Amortizacion'] / secop_II['Valor del Contrato']\n",
    "secop_II['V_Amortizado'] = secop_II['Valor Amortizado'] / secop_II['Valor del Contrato']\n",
    "secop_II['V_Pagado'] = secop_II['Valor Pagado'] / secop_II['Valor del Contrato']\n",
    "secop_II['V_Pendiente de pago'] = secop_II['Valor Pendiente de Pago'] / secop_II['Valor del Contrato']\n",
    "secop_II['V_Facturado'] = secop_II['Valor Facturado'] / secop_II['Valor del Contrato']\n",
    "secop_II['V_Adelantado'] = secop_II['Valor de pago adelantado'] / secop_II['Valor del Contrato']\n",
    "\n",
    "secop_II[Pagos].head()"
   ]
  },
  {
   "cell_type": "code",
   "execution_count": 41,
   "metadata": {},
   "outputs": [
    {
     "data": {
      "text/plain": [
       "Index(['Nombre Entidad', 'Sector', 'Rama', 'Entidad Centralizada',\n",
       "       'Estado Contrato', 'Codigo de Categoria Principal', 'Tipo de Contrato',\n",
       "       'Modalidad de Contratacion', 'Fecha de Firma',\n",
       "       'Fecha de Inicio del Contrato', 'Fecha de Fin del Contrato',\n",
       "       'Fecha de Inicio de Ejecucion', 'Fecha de Fin de Ejecucion',\n",
       "       'Condiciones de Entrega', 'Proveedor Adjudicado', 'Es Grupo', 'Es Pyme',\n",
       "       'Habilita Pago Adelantado', 'Liquidación', 'Obligación Ambiental',\n",
       "       'Obligaciones Postconsumo', 'Reversion', 'Valor del Contrato',\n",
       "       'Valor de pago adelantado', 'Valor Facturado',\n",
       "       'Valor Pendiente de Pago', 'Valor Pagado', 'Valor Amortizado',\n",
       "       'Valor Pendiente de Amortizacion', 'Valor Pendiente de Ejecucion',\n",
       "       'Destino Gasto', 'Origen de los Recursos', 'Dias Adicionados',\n",
       "       'Tipo_Adición en el valor', 'Tipo_Cesión', 'Tipo_Conclusión',\n",
       "       'Tipo_Extensión', 'Tipo_Modificación General', 'Tipo_No definido',\n",
       "       'Tipo_Reactivación', 'Tipo_Suspensión', 'Tipo_Terminación', 'Nombre',\n",
       "       'NIT', 'Tipo Empresa', 'EsPyme', 'Fecha Creación', 'Pais',\n",
       "       'Departamento', 'Municipio', 'Codigo Categoria Principal',\n",
       "       'Año de firma', 'Plazo Contrato', 'Plazo Ejecucion', 'Tiempo Demora',\n",
       "       'V_Pendiente de ejecucion', 'V_Pendiente de amortizacion',\n",
       "       'V_Amortizado', 'V_Pagado', 'V_Pendiente de pago', 'V_Facturado',\n",
       "       'V_Adelantado'],\n",
       "      dtype='object')"
      ]
     },
     "execution_count": 41,
     "metadata": {},
     "output_type": "execute_result"
    }
   ],
   "source": [
    "secop_II.columns"
   ]
  },
  {
   "cell_type": "code",
   "execution_count": 42,
   "metadata": {},
   "outputs": [
    {
     "data": {
      "text/plain": [
       "Nombre Entidad                            object\n",
       "Sector                                    object\n",
       "Rama                                      object\n",
       "Entidad Centralizada                      object\n",
       "Codigo de Categoria Principal             object\n",
       "Tipo de Contrato                          object\n",
       "Modalidad de Contratacion                 object\n",
       "Fecha de Inicio del Contrato      datetime64[ns]\n",
       "Fecha de Fin del Contrato         datetime64[ns]\n",
       "Fecha de Inicio de Ejecucion      datetime64[ns]\n",
       "Fecha de Fin de Ejecucion         datetime64[ns]\n",
       "Condiciones de Entrega                    object\n",
       "Proveedor Adjudicado                      object\n",
       "Es Grupo                                  object\n",
       "Es Pyme                                   object\n",
       "Habilita Pago Adelantado                  object\n",
       "Liquidación                               object\n",
       "Obligación Ambiental                      object\n",
       "Obligaciones Postconsumo                  object\n",
       "Reversion                                 object\n",
       "Valor del Contrato                         int64\n",
       "Destino Gasto                             object\n",
       "Origen de los Recursos                    object\n",
       "Dias Adicionados                           int64\n",
       "Tipo_Adición en el valor                 float64\n",
       "Tipo_Cesión                              float64\n",
       "Tipo_Conclusión                          float64\n",
       "Tipo_Extensión                           float64\n",
       "Tipo_Modificación General                float64\n",
       "Tipo_No definido                         float64\n",
       "Tipo_Reactivación                        float64\n",
       "Tipo_Suspensión                          float64\n",
       "Tipo_Terminación                         float64\n",
       "NIT                                       object\n",
       "Tipo Empresa                              object\n",
       "EsPyme                                    object\n",
       "Fecha Creación                            object\n",
       "Pais                                      object\n",
       "Departamento                              object\n",
       "Municipio                                 object\n",
       "Codigo Categoria Principal                object\n",
       "Plazo Contrato                   timedelta64[ns]\n",
       "Plazo Ejecucion                  timedelta64[ns]\n",
       "Tiempo Demora                    timedelta64[ns]\n",
       "V_Pendiente de ejecucion                 float64\n",
       "V_Pendiente de amortizacion              float64\n",
       "V_Amortizado                             float64\n",
       "V_Pagado                                 float64\n",
       "V_Pendiente de pago                      float64\n",
       "V_Facturado                              float64\n",
       "V_Adelantado                             float64\n",
       "dtype: object"
      ]
     },
     "execution_count": 42,
     "metadata": {},
     "output_type": "execute_result"
    }
   ],
   "source": [
    "drop_vars = ['Fecha de Firma','Valor de pago adelantado', 'Valor Facturado',\n",
    "       'Valor Pendiente de Pago', 'Valor Pagado', 'Valor Amortizado',\n",
    "       'Valor Pendiente de Amortizacion', 'Valor Pendiente de Ejecucion',\n",
    "       'Estado Contrato','Nombre', 'Año de firma']\n",
    "\n",
    "secop_II.drop(drop_vars, inplace=True, axis=1)\n",
    "secop_II.dtypes"
   ]
  },
  {
   "cell_type": "code",
   "execution_count": 43,
   "metadata": {},
   "outputs": [
    {
     "name": "stdout",
     "output_type": "stream",
     "text": [
      "La variable 'Nombre Entidad' tiene 47 categorías únicas\n",
      "La variable 'Sector' tiene 12 categorías únicas\n",
      "La variable 'Rama' tiene 2 categorías únicas\n",
      "La variable 'Entidad Centralizada' tiene 3 categorías únicas\n",
      "La variable 'Codigo de Categoria Principal' tiene 1129 categorías únicas\n",
      "La variable 'Tipo de Contrato' tiene 19 categorías únicas\n",
      "La variable 'Modalidad de Contratacion' tiene 12 categorías únicas\n",
      "La variable 'Condiciones de Entrega' tiene 8 categorías únicas\n",
      "La variable 'Proveedor Adjudicado' tiene 4086 categorías únicas\n",
      "La variable 'Es Grupo' tiene 2 categorías únicas\n",
      "La variable 'Es Pyme' tiene 2 categorías únicas\n",
      "La variable 'Habilita Pago Adelantado' tiene 3 categorías únicas\n",
      "La variable 'Liquidación' tiene 2 categorías únicas\n",
      "La variable 'Obligación Ambiental' tiene 2 categorías únicas\n",
      "La variable 'Obligaciones Postconsumo' tiene 2 categorías únicas\n",
      "La variable 'Reversion' tiene 2 categorías únicas\n",
      "La variable 'Destino Gasto' tiene 3 categorías únicas\n",
      "La variable 'Origen de los Recursos' tiene 7 categorías únicas\n",
      "La variable 'NIT' tiene 3551 categorías únicas\n",
      "La variable 'Tipo Empresa' tiene 28 categorías únicas\n",
      "La variable 'EsPyme' tiene 3 categorías únicas\n",
      "La variable 'Fecha Creación' tiene 1204 categorías únicas\n",
      "La variable 'Pais' tiene 2 categorías únicas\n",
      "La variable 'Departamento' tiene 29 categorías únicas\n",
      "La variable 'Municipio' tiene 65 categorías únicas\n",
      "La variable 'Codigo Categoria Principal' tiene 70 categorías únicas\n"
     ]
    }
   ],
   "source": [
    "# Decide which categorical variables you want to use in model\n",
    "for col_name in secop_II.columns:\n",
    "    if secop_II[col_name].dtypes == 'object':\n",
    "        unique_cat = len(secop_II[col_name].unique())\n",
    "        print(\"La variable '{col_name}' tiene {unique_cat} categorías únicas\".format(col_name=col_name, unique_cat=unique_cat))"
   ]
  },
  {
   "cell_type": "code",
   "execution_count": 44,
   "metadata": {},
   "outputs": [
    {
     "data": {
      "text/plain": [
       "Index(['Nombre Entidad', 'Sector', 'Rama', 'Entidad Centralizada',\n",
       "       'Codigo de Categoria Principal', 'Tipo de Contrato',\n",
       "       'Modalidad de Contratacion', 'Fecha de Inicio del Contrato',\n",
       "       'Fecha de Fin del Contrato', 'Fecha de Inicio de Ejecucion',\n",
       "       'Fecha de Fin de Ejecucion', 'Condiciones de Entrega',\n",
       "       'Proveedor Adjudicado', 'Es Grupo', 'Es Pyme',\n",
       "       'Habilita Pago Adelantado', 'Liquidación', 'Obligación Ambiental',\n",
       "       'Obligaciones Postconsumo', 'Reversion', 'Valor del Contrato',\n",
       "       'Destino Gasto', 'Origen de los Recursos', 'Dias Adicionados',\n",
       "       'Tipo_Adición en el valor', 'Tipo_Cesión', 'Tipo_Conclusión',\n",
       "       'Tipo_Extensión', 'Tipo_Modificación General', 'Tipo_No definido',\n",
       "       'Tipo_Reactivación', 'Tipo_Suspensión', 'Tipo_Terminación', 'NIT',\n",
       "       'Tipo Empresa', 'EsPyme', 'Fecha Creación', 'Pais', 'Departamento',\n",
       "       'Municipio', 'Codigo Categoria Principal', 'Plazo Contrato',\n",
       "       'Plazo Ejecucion', 'Tiempo Demora', 'V_Pendiente de ejecucion',\n",
       "       'V_Pendiente de amortizacion', 'V_Amortizado', 'V_Pagado',\n",
       "       'V_Pendiente de pago', 'V_Facturado', 'V_Adelantado'],\n",
       "      dtype='object')"
      ]
     },
     "execution_count": 44,
     "metadata": {},
     "output_type": "execute_result"
    }
   ],
   "source": [
    "secop_II.columns"
   ]
  },
  {
   "cell_type": "markdown",
   "metadata": {},
   "source": [
    "---"
   ]
  },
  {
   "cell_type": "markdown",
   "metadata": {},
   "source": [
    "- Red flags"
   ]
  },
  {
   "cell_type": "code",
   "execution_count": 45,
   "metadata": {},
   "outputs": [
    {
     "data": {
      "text/html": [
       "<div>\n",
       "<style scoped>\n",
       "    .dataframe tbody tr th:only-of-type {\n",
       "        vertical-align: middle;\n",
       "    }\n",
       "\n",
       "    .dataframe tbody tr th {\n",
       "        vertical-align: top;\n",
       "    }\n",
       "\n",
       "    .dataframe thead th {\n",
       "        text-align: right;\n",
       "    }\n",
       "</style>\n",
       "<table border=\"1\" class=\"dataframe\">\n",
       "  <thead>\n",
       "    <tr style=\"text-align: right;\">\n",
       "      <th></th>\n",
       "      <th>Nombre Entidad</th>\n",
       "      <th>Sector</th>\n",
       "      <th>Rama</th>\n",
       "      <th>Entidad Centralizada</th>\n",
       "      <th>Codigo de Categoria Principal</th>\n",
       "      <th>Tipo de Contrato</th>\n",
       "      <th>Modalidad de Contratacion</th>\n",
       "      <th>Fecha de Inicio del Contrato</th>\n",
       "      <th>Fecha de Fin del Contrato</th>\n",
       "      <th>Fecha de Inicio de Ejecucion</th>\n",
       "      <th>...</th>\n",
       "      <th>Plazo Contrato</th>\n",
       "      <th>Plazo Ejecucion</th>\n",
       "      <th>Tiempo Demora</th>\n",
       "      <th>V_Pendiente de ejecucion</th>\n",
       "      <th>V_Pendiente de amortizacion</th>\n",
       "      <th>V_Amortizado</th>\n",
       "      <th>V_Pagado</th>\n",
       "      <th>V_Pendiente de pago</th>\n",
       "      <th>V_Facturado</th>\n",
       "      <th>V_Adelantado</th>\n",
       "    </tr>\n",
       "    <tr>\n",
       "      <th>Nombre Entidad</th>\n",
       "      <th></th>\n",
       "      <th></th>\n",
       "      <th></th>\n",
       "      <th></th>\n",
       "      <th></th>\n",
       "      <th></th>\n",
       "      <th></th>\n",
       "      <th></th>\n",
       "      <th></th>\n",
       "      <th></th>\n",
       "      <th></th>\n",
       "      <th></th>\n",
       "      <th></th>\n",
       "      <th></th>\n",
       "      <th></th>\n",
       "      <th></th>\n",
       "      <th></th>\n",
       "      <th></th>\n",
       "      <th></th>\n",
       "      <th></th>\n",
       "      <th></th>\n",
       "    </tr>\n",
       "  </thead>\n",
       "  <tbody>\n",
       "    <tr>\n",
       "      <th>ALCALDIA LOCAL DE ANTONIO NARIÑO</th>\n",
       "      <td>1</td>\n",
       "      <td>1</td>\n",
       "      <td>1</td>\n",
       "      <td>1</td>\n",
       "      <td>21</td>\n",
       "      <td>8</td>\n",
       "      <td>7</td>\n",
       "      <td>21</td>\n",
       "      <td>22</td>\n",
       "      <td>21</td>\n",
       "      <td>...</td>\n",
       "      <td>24</td>\n",
       "      <td>21</td>\n",
       "      <td>24</td>\n",
       "      <td>3</td>\n",
       "      <td>2</td>\n",
       "      <td>2</td>\n",
       "      <td>2</td>\n",
       "      <td>3</td>\n",
       "      <td>2</td>\n",
       "      <td>2</td>\n",
       "    </tr>\n",
       "    <tr>\n",
       "      <th>ALCALDIA LOCAL DE BOSA</th>\n",
       "      <td>1</td>\n",
       "      <td>1</td>\n",
       "      <td>1</td>\n",
       "      <td>1</td>\n",
       "      <td>41</td>\n",
       "      <td>9</td>\n",
       "      <td>8</td>\n",
       "      <td>58</td>\n",
       "      <td>59</td>\n",
       "      <td>58</td>\n",
       "      <td>...</td>\n",
       "      <td>58</td>\n",
       "      <td>48</td>\n",
       "      <td>58</td>\n",
       "      <td>8</td>\n",
       "      <td>4</td>\n",
       "      <td>2</td>\n",
       "      <td>6</td>\n",
       "      <td>7</td>\n",
       "      <td>29</td>\n",
       "      <td>4</td>\n",
       "    </tr>\n",
       "    <tr>\n",
       "      <th>ALCALDIA LOCAL DE CIUDAD BOLIVAR</th>\n",
       "      <td>1</td>\n",
       "      <td>1</td>\n",
       "      <td>1</td>\n",
       "      <td>1</td>\n",
       "      <td>41</td>\n",
       "      <td>9</td>\n",
       "      <td>8</td>\n",
       "      <td>46</td>\n",
       "      <td>72</td>\n",
       "      <td>47</td>\n",
       "      <td>...</td>\n",
       "      <td>52</td>\n",
       "      <td>45</td>\n",
       "      <td>52</td>\n",
       "      <td>3</td>\n",
       "      <td>5</td>\n",
       "      <td>2</td>\n",
       "      <td>2</td>\n",
       "      <td>3</td>\n",
       "      <td>2</td>\n",
       "      <td>5</td>\n",
       "    </tr>\n",
       "    <tr>\n",
       "      <th>ALCALDIA LOCAL DE FONTIBON</th>\n",
       "      <td>1</td>\n",
       "      <td>1</td>\n",
       "      <td>1</td>\n",
       "      <td>1</td>\n",
       "      <td>30</td>\n",
       "      <td>9</td>\n",
       "      <td>8</td>\n",
       "      <td>32</td>\n",
       "      <td>35</td>\n",
       "      <td>32</td>\n",
       "      <td>...</td>\n",
       "      <td>24</td>\n",
       "      <td>26</td>\n",
       "      <td>24</td>\n",
       "      <td>1</td>\n",
       "      <td>1</td>\n",
       "      <td>1</td>\n",
       "      <td>1</td>\n",
       "      <td>1</td>\n",
       "      <td>1</td>\n",
       "      <td>1</td>\n",
       "    </tr>\n",
       "    <tr>\n",
       "      <th>ALCALDIA LOCAL DE MARTIRES</th>\n",
       "      <td>1</td>\n",
       "      <td>1</td>\n",
       "      <td>1</td>\n",
       "      <td>1</td>\n",
       "      <td>34</td>\n",
       "      <td>9</td>\n",
       "      <td>7</td>\n",
       "      <td>37</td>\n",
       "      <td>45</td>\n",
       "      <td>38</td>\n",
       "      <td>...</td>\n",
       "      <td>36</td>\n",
       "      <td>36</td>\n",
       "      <td>36</td>\n",
       "      <td>4</td>\n",
       "      <td>2</td>\n",
       "      <td>2</td>\n",
       "      <td>2</td>\n",
       "      <td>4</td>\n",
       "      <td>2</td>\n",
       "      <td>2</td>\n",
       "    </tr>\n",
       "  </tbody>\n",
       "</table>\n",
       "<p>5 rows × 51 columns</p>\n",
       "</div>"
      ],
      "text/plain": [
       "                                  Nombre Entidad  Sector  Rama  \\\n",
       "Nombre Entidad                                                   \n",
       "ALCALDIA LOCAL DE ANTONIO NARIÑO               1       1     1   \n",
       "ALCALDIA LOCAL DE BOSA                         1       1     1   \n",
       "ALCALDIA LOCAL DE CIUDAD BOLIVAR               1       1     1   \n",
       "ALCALDIA LOCAL DE FONTIBON                     1       1     1   \n",
       "ALCALDIA LOCAL DE MARTIRES                     1       1     1   \n",
       "\n",
       "                                  Entidad Centralizada  \\\n",
       "Nombre Entidad                                           \n",
       "ALCALDIA LOCAL DE ANTONIO NARIÑO                     1   \n",
       "ALCALDIA LOCAL DE BOSA                               1   \n",
       "ALCALDIA LOCAL DE CIUDAD BOLIVAR                     1   \n",
       "ALCALDIA LOCAL DE FONTIBON                           1   \n",
       "ALCALDIA LOCAL DE MARTIRES                           1   \n",
       "\n",
       "                                  Codigo de Categoria Principal  \\\n",
       "Nombre Entidad                                                    \n",
       "ALCALDIA LOCAL DE ANTONIO NARIÑO                             21   \n",
       "ALCALDIA LOCAL DE BOSA                                       41   \n",
       "ALCALDIA LOCAL DE CIUDAD BOLIVAR                             41   \n",
       "ALCALDIA LOCAL DE FONTIBON                                   30   \n",
       "ALCALDIA LOCAL DE MARTIRES                                   34   \n",
       "\n",
       "                                  Tipo de Contrato  Modalidad de Contratacion  \\\n",
       "Nombre Entidad                                                                  \n",
       "ALCALDIA LOCAL DE ANTONIO NARIÑO                 8                          7   \n",
       "ALCALDIA LOCAL DE BOSA                           9                          8   \n",
       "ALCALDIA LOCAL DE CIUDAD BOLIVAR                 9                          8   \n",
       "ALCALDIA LOCAL DE FONTIBON                       9                          8   \n",
       "ALCALDIA LOCAL DE MARTIRES                       9                          7   \n",
       "\n",
       "                                  Fecha de Inicio del Contrato  \\\n",
       "Nombre Entidad                                                   \n",
       "ALCALDIA LOCAL DE ANTONIO NARIÑO                            21   \n",
       "ALCALDIA LOCAL DE BOSA                                      58   \n",
       "ALCALDIA LOCAL DE CIUDAD BOLIVAR                            46   \n",
       "ALCALDIA LOCAL DE FONTIBON                                  32   \n",
       "ALCALDIA LOCAL DE MARTIRES                                  37   \n",
       "\n",
       "                                  Fecha de Fin del Contrato  \\\n",
       "Nombre Entidad                                                \n",
       "ALCALDIA LOCAL DE ANTONIO NARIÑO                         22   \n",
       "ALCALDIA LOCAL DE BOSA                                   59   \n",
       "ALCALDIA LOCAL DE CIUDAD BOLIVAR                         72   \n",
       "ALCALDIA LOCAL DE FONTIBON                               35   \n",
       "ALCALDIA LOCAL DE MARTIRES                               45   \n",
       "\n",
       "                                  Fecha de Inicio de Ejecucion  ...  \\\n",
       "Nombre Entidad                                                  ...   \n",
       "ALCALDIA LOCAL DE ANTONIO NARIÑO                            21  ...   \n",
       "ALCALDIA LOCAL DE BOSA                                      58  ...   \n",
       "ALCALDIA LOCAL DE CIUDAD BOLIVAR                            47  ...   \n",
       "ALCALDIA LOCAL DE FONTIBON                                  32  ...   \n",
       "ALCALDIA LOCAL DE MARTIRES                                  38  ...   \n",
       "\n",
       "                                  Plazo Contrato  Plazo Ejecucion  \\\n",
       "Nombre Entidad                                                      \n",
       "ALCALDIA LOCAL DE ANTONIO NARIÑO              24               21   \n",
       "ALCALDIA LOCAL DE BOSA                        58               48   \n",
       "ALCALDIA LOCAL DE CIUDAD BOLIVAR              52               45   \n",
       "ALCALDIA LOCAL DE FONTIBON                    24               26   \n",
       "ALCALDIA LOCAL DE MARTIRES                    36               36   \n",
       "\n",
       "                                  Tiempo Demora  V_Pendiente de ejecucion  \\\n",
       "Nombre Entidad                                                              \n",
       "ALCALDIA LOCAL DE ANTONIO NARIÑO             24                         3   \n",
       "ALCALDIA LOCAL DE BOSA                       58                         8   \n",
       "ALCALDIA LOCAL DE CIUDAD BOLIVAR             52                         3   \n",
       "ALCALDIA LOCAL DE FONTIBON                   24                         1   \n",
       "ALCALDIA LOCAL DE MARTIRES                   36                         4   \n",
       "\n",
       "                                  V_Pendiente de amortizacion  V_Amortizado  \\\n",
       "Nombre Entidad                                                                \n",
       "ALCALDIA LOCAL DE ANTONIO NARIÑO                            2             2   \n",
       "ALCALDIA LOCAL DE BOSA                                      4             2   \n",
       "ALCALDIA LOCAL DE CIUDAD BOLIVAR                            5             2   \n",
       "ALCALDIA LOCAL DE FONTIBON                                  1             1   \n",
       "ALCALDIA LOCAL DE MARTIRES                                  2             2   \n",
       "\n",
       "                                  V_Pagado  V_Pendiente de pago  V_Facturado  \\\n",
       "Nombre Entidad                                                                 \n",
       "ALCALDIA LOCAL DE ANTONIO NARIÑO         2                    3            2   \n",
       "ALCALDIA LOCAL DE BOSA                   6                    7           29   \n",
       "ALCALDIA LOCAL DE CIUDAD BOLIVAR         2                    3            2   \n",
       "ALCALDIA LOCAL DE FONTIBON               1                    1            1   \n",
       "ALCALDIA LOCAL DE MARTIRES               2                    4            2   \n",
       "\n",
       "                                  V_Adelantado  \n",
       "Nombre Entidad                                  \n",
       "ALCALDIA LOCAL DE ANTONIO NARIÑO             2  \n",
       "ALCALDIA LOCAL DE BOSA                       4  \n",
       "ALCALDIA LOCAL DE CIUDAD BOLIVAR             5  \n",
       "ALCALDIA LOCAL DE FONTIBON                   1  \n",
       "ALCALDIA LOCAL DE MARTIRES                   2  \n",
       "\n",
       "[5 rows x 51 columns]"
      ]
     },
     "execution_count": 45,
     "metadata": {},
     "output_type": "execute_result"
    }
   ],
   "source": [
    "red_flags = secop_II.groupby(['Nombre Entidad']).nunique()\n",
    "red_flags.head()"
   ]
  },
  {
   "cell_type": "code",
   "execution_count": 46,
   "metadata": {},
   "outputs": [
    {
     "data": {
      "text/plain": [
       "Nombre Entidad\n",
       "ALCALDIA LOCAL DE ANTONIO NARIÑO    8\n",
       "ALCALDIA LOCAL DE BOSA              9\n",
       "ALCALDIA LOCAL DE CIUDAD BOLIVAR    9\n",
       "ALCALDIA LOCAL DE FONTIBON          9\n",
       "ALCALDIA LOCAL DE MARTIRES          9\n",
       "Name: Tipo de Contrato, dtype: int64"
      ]
     },
     "execution_count": 46,
     "metadata": {},
     "output_type": "execute_result"
    }
   ],
   "source": [
    "red_flags['Tipo de Contrato'].head()"
   ]
  },
  {
   "cell_type": "code",
   "execution_count": 47,
   "metadata": {},
   "outputs": [
    {
     "data": {
      "text/plain": [
       "Codigo de Categoria Principal    int64\n",
       "Proveedor Adjudicado             int64\n",
       "dtype: object"
      ]
     },
     "execution_count": 47,
     "metadata": {},
     "output_type": "execute_result"
    }
   ],
   "source": [
    "drop_vars = ['Sector','Rama','Entidad Centralizada','Fecha de Inicio del Contrato',\n",
    "       'Fecha de Fin del Contrato', 'Fecha de Inicio de Ejecucion',\n",
    "       'Fecha de Fin de Ejecucion','Condiciones de Entrega','Es Grupo', 'Es Pyme',\n",
    "       'Habilita Pago Adelantado', 'Liquidación', 'Obligación Ambiental',\n",
    "       'Obligaciones Postconsumo', 'Reversion','Valor del Contrato',\n",
    "       'Destino Gasto', 'Origen de los Recursos', 'Dias Adicionados',\n",
    "       'Tipo_Adición en el valor', 'Tipo_Cesión', 'Tipo_Conclusión',\n",
    "       'Tipo_Extensión', 'Tipo_Modificación General', 'Tipo_No definido',\n",
    "       'Tipo_Reactivación', 'Tipo_Suspensión', 'Tipo_Terminación',\n",
    "       'NIT', 'Tipo Empresa', 'EsPyme', 'Fecha Creación', 'Pais',\n",
    "       'Departamento', 'Municipio', 'Codigo Categoria Principal',\n",
    "       'Plazo Contrato', 'Plazo Ejecucion',\n",
    "       'Tiempo Demora', 'V_Pendiente de ejecucion',\n",
    "       'V_Pendiente de amortizacion', 'V_Amortizado', 'V_Pagado',\n",
    "       'V_Pendiente de pago', 'V_Facturado', 'V_Adelantado','Nombre Entidad', 'Tipo de Contrato', 'Modalidad de Contratacion']\n",
    "\n",
    "red_flags.drop(drop_vars, inplace=True, axis=1)\n",
    "\n",
    "red_flags.dtypes"
   ]
  },
  {
   "cell_type": "code",
   "execution_count": 48,
   "metadata": {},
   "outputs": [
    {
     "data": {
      "text/plain": [
       "Index(['Categorias_Entidad', 'Proveedores_Entidad'], dtype='object')"
      ]
     },
     "execution_count": 48,
     "metadata": {},
     "output_type": "execute_result"
    }
   ],
   "source": [
    "red_flags = red_flags.rename(columns={'Codigo de Categoria Principal': 'Categorias_Entidad', 'Tipo de Contrato': 'TiposContrato_Entidad', \n",
    "                   'Modalidad de Contratacion': 'Modalidades_Entidad','Proveedor Adjudicado': 'Proveedores_Entidad'})\n",
    "red_flags.columns"
   ]
  },
  {
   "cell_type": "code",
   "execution_count": 49,
   "metadata": {},
   "outputs": [
    {
     "name": "stdout",
     "output_type": "stream",
     "text": [
      "Dimensiones base contratación completa en secop: (8635, 53)\n",
      "Dimensiones base proveedores en secop: (47, 2)\n",
      "Dimensiones base final en secop: (8635, 53)\n",
      "Hay 0 valores perdidos en la columna nombre entidad\n"
     ]
    }
   ],
   "source": [
    "secop_II = pd.merge(secop_II, red_flags, left_on=\"Nombre Entidad\", right_index=True, how='left')\n",
    "print('Dimensiones base contratación completa en secop: {}'.format(secop_II.shape))\n",
    "print('Dimensiones base proveedores en secop: {}'.format(red_flags.shape))\n",
    "print('Dimensiones base final en secop: {}'.format(secop_II.shape))\n",
    "print('Hay {} valores perdidos en la columna nombre entidad'.format(secop_II['Nombre Entidad'].isnull().sum()))"
   ]
  },
  {
   "cell_type": "markdown",
   "metadata": {},
   "source": [
    "---"
   ]
  },
  {
   "cell_type": "markdown",
   "metadata": {},
   "source": [
    "- Outcome"
   ]
  },
  {
   "cell_type": "code",
   "execution_count": 50,
   "metadata": {},
   "outputs": [
    {
     "data": {
      "text/plain": [
       "array([  0,  16,  34, 123, 101,  17,  92,  61, 360, 168,   5, 121, 160,\n",
       "       125,  76, 108,  11,  51, 152,  91, 137,  77,  30,  66, 122,  31,\n",
       "       203,  82,  41, 182, 208,  44,  84,  75,  69,  86, 128, 246, 300,\n",
       "        60,   7,  15, 133,  65, 151, 107,  28,  14,  63,  93,  46, 161,\n",
       "       153,  13, 145, 132,  19, 149,   9,  58,  73,  94,  56,  45, 177,\n",
       "        74,  90, 207, 230, 172,  33,  79, 546,  10,   6, 165, 102, 188,\n",
       "        21, 245,  62, 293,  72, 206,  43, 106, 264, 138,  64, 295, 223,\n",
       "        70,   8,  49,  85, 224, 191, 186, 504,  53, 120,   3,  55,  47,\n",
       "        36,  54, 167,  80, 184,  89, 166,  57,  29,  32,  25, 345, 113,\n",
       "        59, 285, 181,   1,  40, 244,  42,  98,   4, 275, 363,  24, 185,\n",
       "       221, 169, 556,  52, 229, 139,  27, 183, 148, 104, 331, 156, 155,\n",
       "       134, 144, 114, 163,   2,  50, 228,  20, 112, 157, 213, 103,  67,\n",
       "       287, 215, 190, 214, 205, 263, 175, 136,  83, 127, 253, 135,  18,\n",
       "       150, 194, 210, 268, 124,  88, 201,  68, 235,  23, 180, 243, 147,\n",
       "       239, 288, 199,  81, 154, 140,  22,  48, 248, 131, 209, 227, 196,\n",
       "       187, 850,  71, 280, 276, 308,  35, 440,  12, 231, 211,  37, 273,\n",
       "        99, 283,  39, 173, 314,  26, 274, 159, 218, 252,  96, 281, 105,\n",
       "       249, 405, 365, 170, 309, 195, 193, 313,  38, 178, 272, 110, 162,\n",
       "       696, 447, 192, 143, 126, 294, 436], dtype=int64)"
      ]
     },
     "execution_count": 50,
     "metadata": {},
     "output_type": "execute_result"
    }
   ],
   "source": [
    "secop_II['Dias Adicionados'].unique()"
   ]
  },
  {
   "cell_type": "code",
   "execution_count": 51,
   "metadata": {},
   "outputs": [
    {
     "data": {
      "text/plain": [
       "array([ 0.,  1.,  3.,  2.,  4.,  5., 10.,  6.])"
      ]
     },
     "execution_count": 51,
     "metadata": {},
     "output_type": "execute_result"
    }
   ],
   "source": [
    "secop_II['Tipo_Adición en el valor'].unique()"
   ]
  },
  {
   "cell_type": "code",
   "execution_count": 52,
   "metadata": {},
   "outputs": [
    {
     "data": {
      "text/plain": [
       "0    6619\n",
       "1    2016\n",
       "Name: Outcome, dtype: int64"
      ]
     },
     "execution_count": 52,
     "metadata": {},
     "output_type": "execute_result"
    }
   ],
   "source": [
    "outcome = ['Dias Adicionados', 'Tipo_Adición en el valor']\n",
    "secop_II['Outcome'] = secop_II['Dias Adicionados'] + secop_II['Tipo_Adición en el valor'] \n",
    "\n",
    "drop_vars = ['Tipo_Adición en el valor','Dias Adicionados']\n",
    "secop_II.drop(drop_vars, inplace=True, axis=1)\n",
    "\n",
    "secop_II['Outcome'] = [1 if x > 0 else 0 for x in secop_II['Outcome']]\n",
    "secop_II['Outcome'].value_counts()"
   ]
  },
  {
   "cell_type": "code",
   "execution_count": 53,
   "metadata": {},
   "outputs": [
    {
     "data": {
      "text/plain": [
       "array([0, 1], dtype=int64)"
      ]
     },
     "execution_count": 53,
     "metadata": {},
     "output_type": "execute_result"
    }
   ],
   "source": [
    "secop_II['Outcome'].unique()"
   ]
  },
  {
   "cell_type": "code",
   "execution_count": 54,
   "metadata": {},
   "outputs": [],
   "source": [
    "secop_II['Outcome'] = secop_II['Outcome'].fillna(0)"
   ]
  },
  {
   "cell_type": "code",
   "execution_count": 55,
   "metadata": {},
   "outputs": [
    {
     "data": {
      "text/plain": [
       "Index(['Nombre Entidad', 'Sector', 'Rama', 'Entidad Centralizada',\n",
       "       'Codigo de Categoria Principal', 'Tipo de Contrato',\n",
       "       'Modalidad de Contratacion', 'Fecha de Inicio del Contrato',\n",
       "       'Fecha de Fin del Contrato', 'Fecha de Inicio de Ejecucion',\n",
       "       'Fecha de Fin de Ejecucion', 'Condiciones de Entrega',\n",
       "       'Proveedor Adjudicado', 'Es Grupo', 'Es Pyme',\n",
       "       'Habilita Pago Adelantado', 'Liquidacion', 'Obligacion Ambiental',\n",
       "       'Obligaciones Postconsumo', 'Reversion', 'Valor del Contrato',\n",
       "       'Destino Gasto', 'Origen de los Recursos', 'Tipo_Cesión',\n",
       "       'Tipo_Conclusión', 'Tipo_Extensión', 'Tipo_Modificación General',\n",
       "       'Tipo_No definido', 'Tipo_Reactivación', 'Tipo_Suspensión',\n",
       "       'Tipo_Terminación', 'NIT', 'Tipo Empresa', 'EsPyme', 'Fecha Creacion',\n",
       "       'Pais', 'Departamento', 'Municipio', 'Codigo Categoria Principal',\n",
       "       'Plazo Contrato', 'Plazo Ejecucion', 'Tiempo Demora',\n",
       "       'V_Pendiente de ejecucion', 'V_Pendiente de amortizacion',\n",
       "       'V_Amortizado', 'V_Pagado', 'V_Pendiente de pago', 'V_Facturado',\n",
       "       'V_Adelantado', 'Categorias_Entidad', 'Proveedores_Entidad', 'Outcome'],\n",
       "      dtype='object')"
      ]
     },
     "execution_count": 55,
     "metadata": {},
     "output_type": "execute_result"
    }
   ],
   "source": [
    "secop_II = secop_II.rename({'Liquidación': 'Liquidacion', 'Obligación Ambiental': 'Obligacion Ambiental','Fecha Creación':'Fecha Creacion'}, axis=1)\n",
    "\n",
    "secop_II.columns"
   ]
  },
  {
   "cell_type": "code",
   "execution_count": 56,
   "metadata": {},
   "outputs": [],
   "source": [
    "#secop_II = secop_II.rename(columns = lambda x:re.sub('[^A-Za-z0-9_]+', '', x))\n",
    "#secop_II = secop_II.rename(columns = lambda x:re.sub('[_]', '', x))"
   ]
  },
  {
   "cell_type": "code",
   "execution_count": 57,
   "metadata": {},
   "outputs": [],
   "source": [
    "u = secop_II.select_dtypes(object)\n",
    "secop_II[u.columns] = u.apply(\n",
    "    lambda x: x.str.encode('ascii', 'ignore').str.decode('ascii'))"
   ]
  },
  {
   "cell_type": "code",
   "execution_count": 58,
   "metadata": {},
   "outputs": [
    {
     "data": {
      "text/plain": [
       "Index(['Nombre Entidad', 'Sector', 'Rama', 'Entidad Centralizada',\n",
       "       'Codigo de Categoria Principal', 'Tipo de Contrato',\n",
       "       'Modalidad de Contratacion', 'Fecha de Inicio del Contrato',\n",
       "       'Fecha de Fin del Contrato', 'Fecha de Inicio de Ejecucion',\n",
       "       'Fecha de Fin de Ejecucion', 'Condiciones de Entrega',\n",
       "       'Proveedor Adjudicado', 'Es Grupo', 'Es Pyme',\n",
       "       'Habilita Pago Adelantado', 'Liquidacion', 'Obligacion Ambiental',\n",
       "       'Obligaciones Postconsumo', 'Reversion', 'Valor del Contrato',\n",
       "       'Destino Gasto', 'Origen de los Recursos', 'Tipo_Cesión',\n",
       "       'Tipo_Conclusión', 'Tipo_Extensión', 'Tipo_Modificación General',\n",
       "       'Tipo_No definido', 'Tipo_Reactivación', 'Tipo_Suspensión',\n",
       "       'Tipo_Terminación', 'NIT', 'Tipo Empresa', 'EsPyme', 'Fecha Creacion',\n",
       "       'Pais', 'Departamento', 'Municipio', 'Codigo Categoria Principal',\n",
       "       'Plazo Contrato', 'Plazo Ejecucion', 'Tiempo Demora',\n",
       "       'V_Pendiente de ejecucion', 'V_Pendiente de amortizacion',\n",
       "       'V_Amortizado', 'V_Pagado', 'V_Pendiente de pago', 'V_Facturado',\n",
       "       'V_Adelantado', 'Categorias_Entidad', 'Proveedores_Entidad', 'Outcome'],\n",
       "      dtype='object')"
      ]
     },
     "execution_count": 58,
     "metadata": {},
     "output_type": "execute_result"
    }
   ],
   "source": [
    "secop_II.columns"
   ]
  },
  {
   "cell_type": "code",
   "execution_count": 59,
   "metadata": {},
   "outputs": [
    {
     "data": {
      "text/plain": [
       "Nombre Entidad                            object\n",
       "Sector                                    object\n",
       "Rama                                      object\n",
       "Entidad Centralizada                      object\n",
       "Codigo de Categoria Principal             object\n",
       "Tipo de Contrato                          object\n",
       "Modalidad de Contratacion                 object\n",
       "Fecha de Inicio del Contrato      datetime64[ns]\n",
       "Fecha de Fin del Contrato         datetime64[ns]\n",
       "Fecha de Inicio de Ejecucion      datetime64[ns]\n",
       "Fecha de Fin de Ejecucion         datetime64[ns]\n",
       "Condiciones de Entrega                    object\n",
       "Proveedor Adjudicado                      object\n",
       "Es Grupo                                  object\n",
       "Es Pyme                                   object\n",
       "Habilita Pago Adelantado                  object\n",
       "Liquidacion                               object\n",
       "Obligacion Ambiental                      object\n",
       "Obligaciones Postconsumo                  object\n",
       "Reversion                                 object\n",
       "Valor del Contrato                         int64\n",
       "Destino Gasto                             object\n",
       "Origen de los Recursos                    object\n",
       "NIT                                       object\n",
       "Tipo Empresa                              object\n",
       "Fecha Creacion                            object\n",
       "Pais                                      object\n",
       "Departamento                              object\n",
       "Municipio                                 object\n",
       "Plazo Contrato                   timedelta64[ns]\n",
       "Plazo Ejecucion                  timedelta64[ns]\n",
       "Tiempo Demora                    timedelta64[ns]\n",
       "V_Pendiente de ejecucion                 float64\n",
       "V_Pendiente de amortizacion              float64\n",
       "V_Amortizado                             float64\n",
       "V_Pagado                                 float64\n",
       "V_Pendiente de pago                      float64\n",
       "V_Facturado                              float64\n",
       "V_Adelantado                             float64\n",
       "Categorias_Entidad                         int64\n",
       "Proveedores_Entidad                        int64\n",
       "Outcome                                    int64\n",
       "dtype: object"
      ]
     },
     "execution_count": 59,
     "metadata": {},
     "output_type": "execute_result"
    }
   ],
   "source": [
    "drop_vars = ['Tipo_Cesión', 'Tipo_Conclusión', 'Tipo_Extensión','Tipo_Modificación General',\n",
    "       'Tipo_No definido', 'Tipo_Reactivación', 'Tipo_Suspensión',\n",
    "       'Tipo_Terminación', 'Codigo Categoria Principal', 'EsPyme',]\n",
    "\n",
    "secop_II.drop(drop_vars, inplace=True, axis=1)\n",
    "secop_II.dtypes"
   ]
  },
  {
   "cell_type": "code",
   "execution_count": 60,
   "metadata": {},
   "outputs": [],
   "source": [
    "secop_II.to_csv(r'SECOP_II.csv', index = False, encoding='utf-8')"
   ]
  },
  {
   "cell_type": "markdown",
   "metadata": {},
   "source": [
    "---"
   ]
  }
 ],
 "metadata": {
  "kernelspec": {
   "display_name": "Python 3",
   "language": "python",
   "name": "python3"
  },
  "language_info": {
   "codemirror_mode": {
    "name": "ipython",
    "version": 3
   },
   "file_extension": ".py",
   "mimetype": "text/x-python",
   "name": "python",
   "nbconvert_exporter": "python",
   "pygments_lexer": "ipython3",
   "version": "3.7.6"
  }
 },
 "nbformat": 4,
 "nbformat_minor": 4
}
